{
  "cells": [
    {
      "cell_type": "markdown",
      "metadata": {
        "id": "7DW4wuq-hkVV"
      },
      "source": [
        "# **Train a CNN to classify images from the CIFAR-10 dataset using PyTorch**"
      ]
    },
    {
      "cell_type": "markdown",
      "metadata": {
        "id": "MEpqJaaWiYEG"
      },
      "source": [
        "# I. Setup\n",
        "\n"
      ]
    },
    {
      "cell_type": "markdown",
      "metadata": {
        "id": "tb9haqRw1bGR"
      },
      "source": [
        "Install and import necessary libraries and modules."
      ]
    },
    {
      "cell_type": "code",
      "source": [
        "!pip install optuna"
      ],
      "metadata": {
        "colab": {
          "base_uri": "https://localhost:8080/"
        },
        "id": "kJeQbVYAe1cw",
        "outputId": "9b9bb161-f8ce-4536-bdb3-25009f953898"
      },
      "execution_count": 1,
      "outputs": [
        {
          "output_type": "stream",
          "name": "stdout",
          "text": [
            "Requirement already satisfied: optuna in /usr/local/lib/python3.10/dist-packages (3.4.0)\n",
            "Requirement already satisfied: alembic>=1.5.0 in /usr/local/lib/python3.10/dist-packages (from optuna) (1.12.1)\n",
            "Requirement already satisfied: colorlog in /usr/local/lib/python3.10/dist-packages (from optuna) (6.7.0)\n",
            "Requirement already satisfied: numpy in /usr/local/lib/python3.10/dist-packages (from optuna) (1.23.5)\n",
            "Requirement already satisfied: packaging>=20.0 in /usr/local/lib/python3.10/dist-packages (from optuna) (23.2)\n",
            "Requirement already satisfied: sqlalchemy>=1.3.0 in /usr/local/lib/python3.10/dist-packages (from optuna) (2.0.23)\n",
            "Requirement already satisfied: tqdm in /usr/local/lib/python3.10/dist-packages (from optuna) (4.66.1)\n",
            "Requirement already satisfied: PyYAML in /usr/local/lib/python3.10/dist-packages (from optuna) (6.0.1)\n",
            "Requirement already satisfied: Mako in /usr/local/lib/python3.10/dist-packages (from alembic>=1.5.0->optuna) (1.3.0)\n",
            "Requirement already satisfied: typing-extensions>=4 in /usr/local/lib/python3.10/dist-packages (from alembic>=1.5.0->optuna) (4.5.0)\n",
            "Requirement already satisfied: greenlet!=0.4.17 in /usr/local/lib/python3.10/dist-packages (from sqlalchemy>=1.3.0->optuna) (3.0.1)\n",
            "Requirement already satisfied: MarkupSafe>=0.9.2 in /usr/local/lib/python3.10/dist-packages (from Mako->alembic>=1.5.0->optuna) (2.1.3)\n"
          ]
        }
      ]
    },
    {
      "cell_type": "code",
      "execution_count": 2,
      "metadata": {
        "id": "BQBj8KilzDjF"
      },
      "outputs": [],
      "source": [
        "import torch\n",
        "import torchvision\n",
        "import optuna\n",
        "import matplotlib.pyplot as plt\n",
        "import numpy as np\n",
        "\n",
        "from torch import nn, optim\n",
        "from torch.nn import functional as F\n",
        "from torch.utils.data.sampler import SubsetRandomSampler\n",
        "from torchsummary import summary"
      ]
    },
    {
      "cell_type": "markdown",
      "metadata": {
        "id": "TPhClglTjt3h"
      },
      "source": [
        "Set device to the first CUDA-enabled GPU if available."
      ]
    },
    {
      "cell_type": "code",
      "execution_count": 3,
      "metadata": {
        "colab": {
          "base_uri": "https://localhost:8080/"
        },
        "id": "dwv3VVUR0HA9",
        "outputId": "3487c638-bfbe-4892-928b-d38e2ca91979"
      },
      "outputs": [
        {
          "output_type": "stream",
          "name": "stdout",
          "text": [
            "cuda:0\n"
          ]
        }
      ],
      "source": [
        "device = torch.device(\"cuda:0\" if torch.cuda.is_available() else \"cpu\")\n",
        "print(device)"
      ]
    },
    {
      "cell_type": "markdown",
      "metadata": {
        "id": "bpVDiTNMmQrJ"
      },
      "source": [
        "# II. Data Preparation & Processing"
      ]
    },
    {
      "cell_type": "markdown",
      "metadata": {
        "id": "-bdGOaoO1dcm"
      },
      "source": [
        "`transform` normalizes images to a range of 0 to 1 and scales with mean and standard deviation of 0.5. `train_transform` includes additional transformations like random cropping and horizontal flipping to improve performance by providing a more diverse training dataset. Three datasets (training, validation, test) are created applying these transformations.\n",
        "\n",
        "The CIFAR-10 dataset consists of 60000 32x32 colour images in 10 classes, with 6000 images per class. There are 50000 training images and 10000 test images."
      ]
    },
    {
      "cell_type": "code",
      "execution_count": 4,
      "metadata": {
        "colab": {
          "base_uri": "https://localhost:8080/"
        },
        "id": "wlNcaSZM0I0q",
        "outputId": "9fba46db-5062-4fcf-b611-c72e7b04d005"
      },
      "outputs": [
        {
          "output_type": "stream",
          "name": "stdout",
          "text": [
            "Files already downloaded and verified\n",
            "Files already downloaded and verified\n",
            "Files already downloaded and verified\n"
          ]
        }
      ],
      "source": [
        "# Compose a list of image transformations, including tensor conversion and normalization\n",
        "transform = torchvision.transforms.Compose(\n",
        "    [\n",
        "        torchvision.transforms.ToTensor(),\n",
        "        torchvision.transforms.Normalize((0.5, 0.5, 0.5), (0.5, 0.5, 0.5)),\n",
        "    ]\n",
        ")\n",
        "\n",
        "# Compose a list of training image transformations with additional random crop and horizontal flip\n",
        "train_transform = torchvision.transforms.Compose(\n",
        "    [\n",
        "        torchvision.transforms.ToTensor(),\n",
        "        torchvision.transforms.Normalize((0.5, 0.5, 0.5), (0.5, 0.5, 0.5)),\n",
        "        torchvision.transforms.RandomCrop(32, padding=4, padding_mode=\"reflect\"),\n",
        "        torchvision.transforms.RandomHorizontalFlip(),\n",
        "    ]\n",
        ")\n",
        "\n",
        "# Load CIFAR-10 dataset for training using train_transform\n",
        "trainset = torchvision.datasets.CIFAR10(\n",
        "    root=\"./data\", train=True, download=True, transform=train_transform\n",
        ")\n",
        "\n",
        "# Load CIFAR-10 dataset for validation using basic transform (without data augmentation)\n",
        "validationset = torchvision.datasets.CIFAR10(\n",
        "    root=\"./data\", train=True, download=True, transform=transform\n",
        ")\n",
        "\n",
        "# Load CIFAR-10 dataset for testing using basic transform (without data augmentation)\n",
        "testset = torchvision.datasets.CIFAR10(\n",
        "    root=\"./data\", train=False, download=True, transform=transform\n",
        ")"
      ]
    },
    {
      "cell_type": "markdown",
      "metadata": {
        "id": "pTOaMSb_oG_b"
      },
      "source": [
        "# III. Create a CNN\n"
      ]
    },
    {
      "cell_type": "markdown",
      "metadata": {
        "id": "QzwEkC0l1X-b"
      },
      "source": [
        "This model is a simplified ResNet model implemented based on https://myrtle.ai/learn/how-to-train-your-resnet-4-architecture/\n",
        "\n",
        "The model starts with two convolutional layers (`conv1` and `conv2`) followed by batch normalization and ReLU activation function. After `conv2`, there's a max pooling layer that reduces the spatial dimensions of the output.\n",
        "\n",
        "Next, we have the first residual block (`res1`), which consists of two sub-blocks. Each sub-block has a convolutional layer followed by batch normalization and ReLU activation. The output from this residual block is added back to the input, creating a \"shortcut connection\" or \"residual connection.\" This helps propagate gradients directly through the shortcut connections, mitigating the vanishing gradient problem.\n",
        "\n",
        "Following `res1`, there are two more convolutional layers (`conv3` and `conv4`), followed by batch normalization, ReLU activation, and max pooling.\n",
        "\n",
        "After `conv4`, we have another residual block (`res2`), similar to `res1`. The output from this block is again added back to its input via a shortcut connection.\n",
        "\n",
        "Finally, the model has a classifier that includes a max pooling layer (to reduce spatial dimensions further), flattening operation (to convert 3D tensor into 1D tensor), and a fully connected layer (for class prediction).\n",
        "\n",
        "The forward method defines how an input tensor flows through these layers/blocks. It takes an input tensor 'x,' passes it through each layer/block sequentially, applies the residual connections where needed, and finally returns the output from the classifier.\n",
        "![image.png](data:image/png;base64,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)"
      ]
    },
    {
      "cell_type": "code",
      "execution_count": 5,
      "metadata": {
        "id": "XIrZTn6Z5EBB"
      },
      "outputs": [],
      "source": [
        "class ResNet(nn.Module):\n",
        "    def __init__(self):\n",
        "        super(ResNet, self).__init__()\n",
        "\n",
        "        # First convolutional layer\n",
        "        self.conv1 = nn.Sequential(\n",
        "            nn.Conv2d(in_channels=3, out_channels=64, kernel_size=3, padding=1),\n",
        "            nn.BatchNorm2d(64),\n",
        "            nn.ReLU(inplace=True),\n",
        "        )\n",
        "\n",
        "        # Second convolutional layer\n",
        "        self.conv2 = nn.Sequential(\n",
        "            nn.Conv2d(in_channels=64, out_channels=128, kernel_size=3, padding=1),\n",
        "            nn.BatchNorm2d(128),\n",
        "            nn.ReLU(inplace=True),\n",
        "            nn.MaxPool2d(2),\n",
        "        )\n",
        "\n",
        "        # First residual block with two convolutional layers\n",
        "        self.res1 = nn.Sequential(\n",
        "            nn.Sequential(\n",
        "                nn.Conv2d(in_channels=128, out_channels=128, kernel_size=3, padding=1),\n",
        "                nn.BatchNorm2d(128),\n",
        "                nn.ReLU(inplace=True),\n",
        "            ),\n",
        "            nn.Sequential(\n",
        "                nn.Conv2d(in_channels=128, out_channels=128, kernel_size=3, padding=1),\n",
        "                nn.BatchNorm2d(128),\n",
        "                nn.ReLU(inplace=True),\n",
        "            ),\n",
        "        )\n",
        "\n",
        "        # Third convolutional layer with max pooling\n",
        "        self.conv3 = nn.Sequential(\n",
        "            nn.Conv2d(in_channels=128, out_channels=256, kernel_size=3, padding=1),\n",
        "            nn.BatchNorm2d(256),\n",
        "            nn.ReLU(inplace=True),\n",
        "            nn.MaxPool2d(2),\n",
        "        )\n",
        "\n",
        "        # Fourth convolutional layer with max pooling\n",
        "        self.conv4 = nn.Sequential(\n",
        "            nn.Conv2d(in_channels=256, out_channels=512, kernel_size=3, padding=1),\n",
        "            nn.BatchNorm2d(512),\n",
        "            nn.ReLU(inplace=True),\n",
        "            nn.MaxPool2d(2),\n",
        "        )\n",
        "\n",
        "        # Second residual block with two convolutional layers\n",
        "        self.res2 = nn.Sequential(\n",
        "            nn.Sequential(\n",
        "                nn.Conv2d(in_channels=512, out_channels=512, kernel_size=3, padding=1),\n",
        "                nn.BatchNorm2d(512),\n",
        "                nn.ReLU(inplace=True),\n",
        "            ),\n",
        "            nn.Sequential(\n",
        "                nn.Conv2d(in_channels=512, out_channels=512, kernel_size=3, padding=1),\n",
        "                nn.BatchNorm2d(512),\n",
        "                nn.ReLU(inplace=True),\n",
        "            ),\n",
        "        )\n",
        "\n",
        "        # Final classifier with Max Pooling, Flattening, and Linear Layer\n",
        "        self.classifier = nn.Sequential(\n",
        "            nn.MaxPool2d(4), nn.Flatten(), nn.Linear(512, 10)\n",
        "        )\n",
        "\n",
        "    def forward(self, x):\n",
        "        x = self.conv1(x)\n",
        "        x = self.conv2(x)\n",
        "        # Apply first residual block and element-wise addition\n",
        "        x = self.res1(x) + x\n",
        "        x = self.conv3(x)\n",
        "        x = self.conv4(x)\n",
        "        # Apply second residual block and element-wise addition\n",
        "        x = self.res2(x) + x\n",
        "        x = self.classifier(x)\n",
        "\n",
        "        return x"
      ]
    },
    {
      "cell_type": "markdown",
      "metadata": {
        "id": "HwbmjqYIqnto"
      },
      "source": [
        "Display the network structure tidily.\n",
        "\n",
        "\n"
      ]
    },
    {
      "cell_type": "code",
      "execution_count": 6,
      "metadata": {
        "colab": {
          "base_uri": "https://localhost:8080/"
        },
        "id": "4jyKB-1M51bu",
        "outputId": "aacd041e-6e04-448e-efea-4134c88f383f"
      },
      "outputs": [
        {
          "output_type": "stream",
          "name": "stdout",
          "text": [
            "----------------------------------------------------------------\n",
            "        Layer (type)               Output Shape         Param #\n",
            "================================================================\n",
            "            Conv2d-1           [32, 64, 32, 32]           1,792\n",
            "       BatchNorm2d-2           [32, 64, 32, 32]             128\n",
            "              ReLU-3           [32, 64, 32, 32]               0\n",
            "            Conv2d-4          [32, 128, 32, 32]          73,856\n",
            "       BatchNorm2d-5          [32, 128, 32, 32]             256\n",
            "              ReLU-6          [32, 128, 32, 32]               0\n",
            "         MaxPool2d-7          [32, 128, 16, 16]               0\n",
            "            Conv2d-8          [32, 128, 16, 16]         147,584\n",
            "       BatchNorm2d-9          [32, 128, 16, 16]             256\n",
            "             ReLU-10          [32, 128, 16, 16]               0\n",
            "           Conv2d-11          [32, 128, 16, 16]         147,584\n",
            "      BatchNorm2d-12          [32, 128, 16, 16]             256\n",
            "             ReLU-13          [32, 128, 16, 16]               0\n",
            "           Conv2d-14          [32, 256, 16, 16]         295,168\n",
            "      BatchNorm2d-15          [32, 256, 16, 16]             512\n",
            "             ReLU-16          [32, 256, 16, 16]               0\n",
            "        MaxPool2d-17            [32, 256, 8, 8]               0\n",
            "           Conv2d-18            [32, 512, 8, 8]       1,180,160\n",
            "      BatchNorm2d-19            [32, 512, 8, 8]           1,024\n",
            "             ReLU-20            [32, 512, 8, 8]               0\n",
            "        MaxPool2d-21            [32, 512, 4, 4]               0\n",
            "           Conv2d-22            [32, 512, 4, 4]       2,359,808\n",
            "      BatchNorm2d-23            [32, 512, 4, 4]           1,024\n",
            "             ReLU-24            [32, 512, 4, 4]               0\n",
            "           Conv2d-25            [32, 512, 4, 4]       2,359,808\n",
            "      BatchNorm2d-26            [32, 512, 4, 4]           1,024\n",
            "             ReLU-27            [32, 512, 4, 4]               0\n",
            "        MaxPool2d-28            [32, 512, 1, 1]               0\n",
            "          Flatten-29                  [32, 512]               0\n",
            "           Linear-30                   [32, 10]           5,130\n",
            "================================================================\n",
            "Total params: 6,575,370\n",
            "Trainable params: 6,575,370\n",
            "Non-trainable params: 0\n",
            "----------------------------------------------------------------\n",
            "Input size (MB): 0.38\n",
            "Forward/backward pass size (MB): 290.25\n",
            "Params size (MB): 25.08\n",
            "Estimated Total Size (MB): 315.71\n",
            "----------------------------------------------------------------\n"
          ]
        }
      ],
      "source": [
        "net = ResNet()\n",
        "net = net.to(device)\n",
        "\n",
        "# Batch size is for reference only. Actual batch size is determined later.\n",
        "summary(net, (3, 32, 32), batch_size=32)"
      ]
    },
    {
      "cell_type": "markdown",
      "metadata": {
        "id": "-mjDCvICsrip"
      },
      "source": [
        "# IV. Dataloaders\n"
      ]
    },
    {
      "cell_type": "markdown",
      "metadata": {
        "id": "L4ZjMRgd1UJB"
      },
      "source": [
        "\n",
        "Split the training set into the `trainloader` and `validloader`. This split is made in accordance to `valid_size`, set as 20% of the total training data. Samplers for the training and validation will be computed and used later during DataLoaders creation. `NUM_WORKERS` for loading data in parallel."
      ]
    },
    {
      "cell_type": "code",
      "execution_count": 7,
      "metadata": {
        "id": "C6nWCjtL8p-n"
      },
      "outputs": [],
      "source": [
        "# Set the proportion of the dataset to use for validation\n",
        "valid_size = 0.2\n",
        "\n",
        "# Get the number of training examples and create a list of indices\n",
        "num_train = len(trainset)\n",
        "indices = list(range(num_train))\n",
        "\n",
        "# Calculate the index at which to split the dataset into train and validation sets\n",
        "split = int(np.floor(valid_size * num_train))\n",
        "train_idx, valid_idx = indices[split:], indices[:split]\n",
        "\n",
        "# Define samplers for obtaining training and validation batches\n",
        "TRAIN_SAMPLER = SubsetRandomSampler(train_idx)\n",
        "VALID_SAMPLER = SubsetRandomSampler(valid_idx)\n",
        "\n",
        "# Set the number of workers for data loading\n",
        "NUM_WORKERS = 2\n",
        "\n",
        "def data_loaders(trainset, validationset, testset, size):\n",
        "    # Create a DataLoader for training set using TRAIN_SAMPLER\n",
        "    trainloader = torch.utils.data.DataLoader(\n",
        "        trainset, batch_size=size, sampler=TRAIN_SAMPLER, num_workers=NUM_WORKERS\n",
        "    )\n",
        "\n",
        "    # Create a DataLoader for validation set using VALID_SAMPLER\n",
        "    validloader = torch.utils.data.DataLoader(\n",
        "        validationset, batch_size=size, sampler=VALID_SAMPLER, num_workers=NUM_WORKERS\n",
        "    )\n",
        "\n",
        "    # Create a DataLoader for test set without using any sampler (use all examples)\n",
        "    testloader = torch.utils.data.DataLoader(\n",
        "        testset, batch_size=size, num_workers=NUM_WORKERS\n",
        "    )\n",
        "\n",
        "    # Return DataLoaders as a tuple (trainloader, validloader, testloader)\n",
        "    return trainloader, validloader, testloader"
      ]
    },
    {
      "cell_type": "markdown",
      "metadata": {
        "id": "wAFvM2G4vM2K"
      },
      "source": [
        "# V. Training the network\n"
      ]
    },
    {
      "cell_type": "markdown",
      "metadata": {
        "id": "mdnY_1Ddwc6t"
      },
      "source": [
        "## i. Training function\n",
        "This function trains the model using CrossEntropyLoss and the Adam optimizer. It takes in a configuration dictionary, training, validation, and test sets, and an optional number of epochs. The function uses a custom `data_loaders` function to load data in batches. For each epoch, it trains the model on the training set and then evaluates it on the validation set to avoid overfitting. If the validation loss decreases, it saves the current model state. The function prints out training statistics after each epoch and returns lists of training losses and accuracies at the end."
      ]
    },
    {
      "cell_type": "code",
      "execution_count": 8,
      "metadata": {
        "id": "RKxT7Hja_BLb"
      },
      "outputs": [],
      "source": [
        "def train_cifar(config, trainset, validationset, testset, epochs):\n",
        "    # Instantiate the model and move it to GPU (if available)\n",
        "    net = ResNet()\n",
        "    net.to(device)\n",
        "\n",
        "    # Define the loss function (Cross-entropy Loss)\n",
        "    criterion = nn.CrossEntropyLoss()\n",
        "\n",
        "    # Define the optimizer (Adam with AMSGrad)\n",
        "    optimizer = optim.Adam(net.parameters(),\n",
        "                           lr=config[\"lr\"],\n",
        "                           weight_decay=config[\"weight_decay\"],\n",
        "                           amsgrad=config[\"amsgrad\"])\n",
        "\n",
        "    # Create data loaders for train, validation and test sets\n",
        "    trainloader, validloader, testloader = data_loaders(\n",
        "        trainset, validationset, testset, config[\"batch_size\"]\n",
        "    )\n",
        "\n",
        "    train_loss_list = []\n",
        "    accuracy_list = []\n",
        "\n",
        "    # Initialize tracker for minimum validation loss\n",
        "    valid_loss_min = np.Inf\n",
        "\n",
        "    # Start training loop for given number of epochs\n",
        "    for epoch in range(epochs):\n",
        "        train_loss = 0.0\n",
        "        net.train()\n",
        "\n",
        "        # Train on batches from train loader\n",
        "        for inputs, labels in trainloader:\n",
        "            inputs, labels = inputs.to(device), labels.to(device)\n",
        "\n",
        "            # Clear gradients\n",
        "            optimizer.zero_grad()\n",
        "\n",
        "            # Forward pass\n",
        "            outputs = net(inputs)\n",
        "            loss = criterion(outputs, labels)\n",
        "\n",
        "            # Backward pass\n",
        "            loss.backward()\n",
        "            optimizer.step()\n",
        "\n",
        "            train_loss += loss.item() * inputs.size(0)\n",
        "\n",
        "        correct = 0\n",
        "        valid_loss = 0.0\n",
        "        net.eval()\n",
        "\n",
        "        # Evaluate on batches from validation loader\n",
        "        for inputs, labels in validloader:\n",
        "            with torch.no_grad():\n",
        "                inputs, labels = inputs.to(device), labels.to(device)\n",
        "\n",
        "                outputs = net(inputs)\n",
        "                loss = criterion(outputs, labels)\n",
        "\n",
        "                valid_loss += loss.item() * inputs.size(0)\n",
        "\n",
        "                predicted = torch.max(outputs.data, 1)[1]\n",
        "\n",
        "                correct += (predicted == labels).sum().item()\n",
        "\n",
        "        train_loss = train_loss / len(TRAIN_SAMPLER)\n",
        "        valid_loss = valid_loss / len(VALID_SAMPLER)\n",
        "        accuracy = correct / len(VALID_SAMPLER)\n",
        "\n",
        "        train_loss_list.append(train_loss)\n",
        "        accuracy_list.append(accuracy)\n",
        "\n",
        "        # Print current epoch's results (Training Loss, Validation Loss, and Accuracy)\n",
        "        print(\n",
        "            f\"Epoch: {epoch} \\tTraining Loss: {train_loss:.6f} \\t\"\n",
        "            f\"Validation Loss: {valid_loss:.6f} \\t\"\n",
        "            f\"Validation Accuracy: {accuracy:.6f}\"\n",
        "        )\n",
        "\n",
        "        # If validation loss decreased, save model and update valid_loss_min\n",
        "        if valid_loss <= valid_loss_min:\n",
        "            print(\n",
        "                \"Validation loss decreased (\"\n",
        "                f\"{valid_loss_min:.6f} --> {valid_loss:.6f}).  \"\n",
        "                \"Saving model ...\"\n",
        "            )\n",
        "\n",
        "            torch.save(net.state_dict(), \"cnn.pt\")\n",
        "            valid_loss_min = valid_loss\n",
        "    # End of training loop\n",
        "\n",
        "    print(f\"\\n----------- Finished Training -----------\")\n",
        "\n",
        "\n",
        "    return train_loss_list, accuracy_list"
      ]
    },
    {
      "cell_type": "markdown",
      "source": [
        "## ii. Hyperparameters tuning\n",
        "This code block defines an Optuna optimization process. The hyperparameters being tuned are learning rate (lr), batch size, and weight decay, with 20 trials conducted. The objective function evaluates the model performance based on its final validation loss."
      ],
      "metadata": {
        "id": "8XwnHa3LsTjo"
      }
    },
    {
      "cell_type": "code",
      "source": [
        "def objective(trial):\n",
        "    # Suggest hyperparameters\n",
        "    batch_size = trial.suggest_categorical(\"batch_size\", [16, 32, 64])\n",
        "    lr = trial.suggest_float(\"lr\", 1e-5, 1e-3, log=True)\n",
        "    weight_decay = trial.suggest_float(\"weight_decay\", 0., 1e-4)\n",
        "\n",
        "    config = {\n",
        "        \"batch_size\": batch_size,\n",
        "        \"lr\": lr,\n",
        "        \"weight_decay\": weight_decay,\n",
        "        \"amsgrad\": True\n",
        "    }\n",
        "\n",
        "    # Train the model with suggested hyperparameters\n",
        "    train_loss_list, accuracy_list = train_cifar(config, trainset,\n",
        "                                                 validationset,\n",
        "                                                 testset,\n",
        "                                                 epochs=15)\n",
        "\n",
        "    # Return the final validation loss\n",
        "    return train_loss_list[-1]\n",
        "\n",
        "def optimize_hyperparameters(n_trials):\n",
        "    # Create an Optuna study with a minimizing objective\n",
        "    study = optuna.create_study(direction=\"minimize\")\n",
        "    study.optimize(objective, n_trials=n_trials)\n",
        "\n",
        "    # Print best_trial information after optimization is complete\n",
        "    print_best_trial(study)\n",
        "\n",
        "    return study\n",
        "\n",
        "\n",
        "def print_best_trial(study):\n",
        "    # Get best trial from the study\n",
        "    best_trial = study.best_trial\n",
        "\n",
        "    print(\"Best trial:\")\n",
        "    print(f\"  Value: {best_trial.value}\")\n",
        "    print(f\"  Params: \")\n",
        "\n",
        "    for key, value in best_trial.params.items():\n",
        "        print(f\"      {key}: {value}\")\n",
        "\n",
        "# Run hyperparameter optimization with 20 trials\n",
        "study = optimize_hyperparameters(n_trials=20)"
      ],
      "metadata": {
        "id": "2UZPyd8devTZ",
        "colab": {
          "base_uri": "https://localhost:8080/"
        },
        "outputId": "122f5f64-2bf0-47d7-e39c-2e8bf544e15f"
      },
      "execution_count": 9,
      "outputs": [
        {
          "output_type": "stream",
          "name": "stderr",
          "text": [
            "[I 2023-11-22 19:50:47,484] A new study created in memory with name: no-name-3ada51f3-0641-4c52-99c0-40155a65a5a3\n"
          ]
        },
        {
          "output_type": "stream",
          "name": "stdout",
          "text": [
            "Epoch: 0 \tTraining Loss: 1.370594 \tValidation Loss: 1.012952 \tValidation Accuracy: 0.642300\n",
            "Validation loss decreased (inf --> 1.012952).  Saving model ...\n",
            "Epoch: 1 \tTraining Loss: 1.022947 \tValidation Loss: 0.894501 \tValidation Accuracy: 0.681900\n",
            "Validation loss decreased (1.012952 --> 0.894501).  Saving model ...\n",
            "Epoch: 2 \tTraining Loss: 0.877651 \tValidation Loss: 0.734038 \tValidation Accuracy: 0.747300\n",
            "Validation loss decreased (0.894501 --> 0.734038).  Saving model ...\n",
            "Epoch: 3 \tTraining Loss: 0.767017 \tValidation Loss: 0.662257 \tValidation Accuracy: 0.766100\n",
            "Validation loss decreased (0.734038 --> 0.662257).  Saving model ...\n",
            "Epoch: 4 \tTraining Loss: 0.697791 \tValidation Loss: 0.636094 \tValidation Accuracy: 0.778100\n",
            "Validation loss decreased (0.662257 --> 0.636094).  Saving model ...\n",
            "Epoch: 5 \tTraining Loss: 0.641195 \tValidation Loss: 0.601472 \tValidation Accuracy: 0.794100\n",
            "Validation loss decreased (0.636094 --> 0.601472).  Saving model ...\n",
            "Epoch: 6 \tTraining Loss: 0.593939 \tValidation Loss: 0.539098 \tValidation Accuracy: 0.813000\n",
            "Validation loss decreased (0.601472 --> 0.539098).  Saving model ...\n",
            "Epoch: 7 \tTraining Loss: 0.554283 \tValidation Loss: 0.534345 \tValidation Accuracy: 0.814700\n",
            "Validation loss decreased (0.539098 --> 0.534345).  Saving model ...\n",
            "Epoch: 8 \tTraining Loss: 0.519845 \tValidation Loss: 0.495749 \tValidation Accuracy: 0.829500\n",
            "Validation loss decreased (0.534345 --> 0.495749).  Saving model ...\n",
            "Epoch: 9 \tTraining Loss: 0.489825 \tValidation Loss: 0.484584 \tValidation Accuracy: 0.832700\n",
            "Validation loss decreased (0.495749 --> 0.484584).  Saving model ...\n",
            "Epoch: 10 \tTraining Loss: 0.461906 \tValidation Loss: 0.464037 \tValidation Accuracy: 0.836500\n",
            "Validation loss decreased (0.484584 --> 0.464037).  Saving model ...\n",
            "Epoch: 11 \tTraining Loss: 0.442799 \tValidation Loss: 0.452050 \tValidation Accuracy: 0.845500\n",
            "Validation loss decreased (0.464037 --> 0.452050).  Saving model ...\n",
            "Epoch: 12 \tTraining Loss: 0.414579 \tValidation Loss: 0.456085 \tValidation Accuracy: 0.845100\n",
            "Epoch: 13 \tTraining Loss: 0.403001 \tValidation Loss: 0.445221 \tValidation Accuracy: 0.846600\n",
            "Validation loss decreased (0.452050 --> 0.445221).  Saving model ...\n"
          ]
        },
        {
          "output_type": "stream",
          "name": "stderr",
          "text": [
            "[I 2023-11-22 20:03:15,927] Trial 0 finished with value: 0.38152901157587765 and parameters: {'batch_size': 16, 'lr': 1.8955099951568707e-05, 'weight_decay': 3.691003657877058e-05}. Best is trial 0 with value: 0.38152901157587765.\n"
          ]
        },
        {
          "output_type": "stream",
          "name": "stdout",
          "text": [
            "Epoch: 14 \tTraining Loss: 0.381529 \tValidation Loss: 0.417904 \tValidation Accuracy: 0.855500\n",
            "Validation loss decreased (0.445221 --> 0.417904).  Saving model ...\n",
            "\n",
            "----------- Finished Training -----------\n",
            "Epoch: 0 \tTraining Loss: 1.480605 \tValidation Loss: 1.115275 \tValidation Accuracy: 0.600000\n",
            "Validation loss decreased (inf --> 1.115275).  Saving model ...\n",
            "Epoch: 1 \tTraining Loss: 1.133214 \tValidation Loss: 0.941026 \tValidation Accuracy: 0.669800\n",
            "Validation loss decreased (1.115275 --> 0.941026).  Saving model ...\n",
            "Epoch: 2 \tTraining Loss: 0.988620 \tValidation Loss: 0.843303 \tValidation Accuracy: 0.703500\n",
            "Validation loss decreased (0.941026 --> 0.843303).  Saving model ...\n",
            "Epoch: 3 \tTraining Loss: 0.896264 \tValidation Loss: 0.769654 \tValidation Accuracy: 0.731900\n",
            "Validation loss decreased (0.843303 --> 0.769654).  Saving model ...\n",
            "Epoch: 4 \tTraining Loss: 0.827953 \tValidation Loss: 0.723235 \tValidation Accuracy: 0.747900\n",
            "Validation loss decreased (0.769654 --> 0.723235).  Saving model ...\n",
            "Epoch: 5 \tTraining Loss: 0.770676 \tValidation Loss: 0.684150 \tValidation Accuracy: 0.766100\n",
            "Validation loss decreased (0.723235 --> 0.684150).  Saving model ...\n",
            "Epoch: 6 \tTraining Loss: 0.724885 \tValidation Loss: 0.667332 \tValidation Accuracy: 0.767400\n",
            "Validation loss decreased (0.684150 --> 0.667332).  Saving model ...\n",
            "Epoch: 7 \tTraining Loss: 0.680260 \tValidation Loss: 0.615515 \tValidation Accuracy: 0.786500\n",
            "Validation loss decreased (0.667332 --> 0.615515).  Saving model ...\n",
            "Epoch: 8 \tTraining Loss: 0.646142 \tValidation Loss: 0.615603 \tValidation Accuracy: 0.784800\n",
            "Epoch: 9 \tTraining Loss: 0.611647 \tValidation Loss: 0.567420 \tValidation Accuracy: 0.801700\n",
            "Validation loss decreased (0.615515 --> 0.567420).  Saving model ...\n",
            "Epoch: 10 \tTraining Loss: 0.586065 \tValidation Loss: 0.561375 \tValidation Accuracy: 0.802700\n",
            "Validation loss decreased (0.567420 --> 0.561375).  Saving model ...\n",
            "Epoch: 11 \tTraining Loss: 0.561167 \tValidation Loss: 0.538438 \tValidation Accuracy: 0.813100\n",
            "Validation loss decreased (0.561375 --> 0.538438).  Saving model ...\n",
            "Epoch: 12 \tTraining Loss: 0.537604 \tValidation Loss: 0.513056 \tValidation Accuracy: 0.822200\n",
            "Validation loss decreased (0.538438 --> 0.513056).  Saving model ...\n",
            "Epoch: 13 \tTraining Loss: 0.513463 \tValidation Loss: 0.520453 \tValidation Accuracy: 0.819400\n"
          ]
        },
        {
          "output_type": "stream",
          "name": "stderr",
          "text": [
            "[I 2023-11-22 20:15:16,273] Trial 1 finished with value: 0.5019407461211085 and parameters: {'batch_size': 16, 'lr': 1.0391772533126187e-05, 'weight_decay': 7.698135320059888e-05}. Best is trial 0 with value: 0.38152901157587765.\n"
          ]
        },
        {
          "output_type": "stream",
          "name": "stdout",
          "text": [
            "Epoch: 14 \tTraining Loss: 0.501941 \tValidation Loss: 0.506962 \tValidation Accuracy: 0.824200\n",
            "Validation loss decreased (0.513056 --> 0.506962).  Saving model ...\n",
            "\n",
            "----------- Finished Training -----------\n",
            "Epoch: 0 \tTraining Loss: 1.486255 \tValidation Loss: 1.153599 \tValidation Accuracy: 0.588600\n",
            "Validation loss decreased (inf --> 1.153599).  Saving model ...\n",
            "Epoch: 1 \tTraining Loss: 1.144258 \tValidation Loss: 0.998294 \tValidation Accuracy: 0.647300\n",
            "Validation loss decreased (1.153599 --> 0.998294).  Saving model ...\n",
            "Epoch: 2 \tTraining Loss: 0.999660 \tValidation Loss: 0.897870 \tValidation Accuracy: 0.679500\n",
            "Validation loss decreased (0.998294 --> 0.897870).  Saving model ...\n",
            "Epoch: 3 \tTraining Loss: 0.903761 \tValidation Loss: 0.808383 \tValidation Accuracy: 0.711000\n",
            "Validation loss decreased (0.897870 --> 0.808383).  Saving model ...\n",
            "Epoch: 4 \tTraining Loss: 0.832002 \tValidation Loss: 0.796682 \tValidation Accuracy: 0.717000\n",
            "Validation loss decreased (0.808383 --> 0.796682).  Saving model ...\n",
            "Epoch: 5 \tTraining Loss: 0.776121 \tValidation Loss: 0.717241 \tValidation Accuracy: 0.746100\n",
            "Validation loss decreased (0.796682 --> 0.717241).  Saving model ...\n",
            "Epoch: 6 \tTraining Loss: 0.727938 \tValidation Loss: 0.682473 \tValidation Accuracy: 0.758700\n",
            "Validation loss decreased (0.717241 --> 0.682473).  Saving model ...\n",
            "Epoch: 7 \tTraining Loss: 0.689950 \tValidation Loss: 0.644621 \tValidation Accuracy: 0.773200\n",
            "Validation loss decreased (0.682473 --> 0.644621).  Saving model ...\n",
            "Epoch: 8 \tTraining Loss: 0.647106 \tValidation Loss: 0.638018 \tValidation Accuracy: 0.776400\n",
            "Validation loss decreased (0.644621 --> 0.638018).  Saving model ...\n",
            "Epoch: 9 \tTraining Loss: 0.618960 \tValidation Loss: 0.605324 \tValidation Accuracy: 0.788400\n",
            "Validation loss decreased (0.638018 --> 0.605324).  Saving model ...\n",
            "Epoch: 10 \tTraining Loss: 0.585067 \tValidation Loss: 0.586536 \tValidation Accuracy: 0.796900\n",
            "Validation loss decreased (0.605324 --> 0.586536).  Saving model ...\n",
            "Epoch: 11 \tTraining Loss: 0.559112 \tValidation Loss: 0.571838 \tValidation Accuracy: 0.797700\n",
            "Validation loss decreased (0.586536 --> 0.571838).  Saving model ...\n",
            "Epoch: 12 \tTraining Loss: 0.538353 \tValidation Loss: 0.554282 \tValidation Accuracy: 0.808800\n",
            "Validation loss decreased (0.571838 --> 0.554282).  Saving model ...\n",
            "Epoch: 13 \tTraining Loss: 0.520490 \tValidation Loss: 0.537201 \tValidation Accuracy: 0.814700\n",
            "Validation loss decreased (0.554282 --> 0.537201).  Saving model ...\n"
          ]
        },
        {
          "output_type": "stream",
          "name": "stderr",
          "text": [
            "[I 2023-11-22 20:24:32,071] Trial 2 finished with value: 0.4970485859155655 and parameters: {'batch_size': 32, 'lr': 1.2346572788546235e-05, 'weight_decay': 9.835114601192971e-05}. Best is trial 0 with value: 0.38152901157587765.\n"
          ]
        },
        {
          "output_type": "stream",
          "name": "stdout",
          "text": [
            "Epoch: 14 \tTraining Loss: 0.497049 \tValidation Loss: 0.540210 \tValidation Accuracy: 0.812600\n",
            "\n",
            "----------- Finished Training -----------\n",
            "Epoch: 0 \tTraining Loss: 1.269474 \tValidation Loss: 0.826284 \tValidation Accuracy: 0.711800\n",
            "Validation loss decreased (inf --> 0.826284).  Saving model ...\n",
            "Epoch: 1 \tTraining Loss: 0.791769 \tValidation Loss: 0.617606 \tValidation Accuracy: 0.786700\n",
            "Validation loss decreased (0.826284 --> 0.617606).  Saving model ...\n",
            "Epoch: 2 \tTraining Loss: 0.625348 \tValidation Loss: 0.483795 \tValidation Accuracy: 0.835300\n",
            "Validation loss decreased (0.617606 --> 0.483795).  Saving model ...\n",
            "Epoch: 3 \tTraining Loss: 0.535518 \tValidation Loss: 0.525069 \tValidation Accuracy: 0.825300\n",
            "Epoch: 4 \tTraining Loss: 0.469504 \tValidation Loss: 0.446408 \tValidation Accuracy: 0.850700\n",
            "Validation loss decreased (0.483795 --> 0.446408).  Saving model ...\n",
            "Epoch: 5 \tTraining Loss: 0.414401 \tValidation Loss: 0.414831 \tValidation Accuracy: 0.861800\n",
            "Validation loss decreased (0.446408 --> 0.414831).  Saving model ...\n",
            "Epoch: 6 \tTraining Loss: 0.375690 \tValidation Loss: 0.422540 \tValidation Accuracy: 0.856800\n",
            "Epoch: 7 \tTraining Loss: 0.336582 \tValidation Loss: 0.448416 \tValidation Accuracy: 0.850300\n",
            "Epoch: 8 \tTraining Loss: 0.311680 \tValidation Loss: 0.346464 \tValidation Accuracy: 0.883100\n",
            "Validation loss decreased (0.414831 --> 0.346464).  Saving model ...\n",
            "Epoch: 9 \tTraining Loss: 0.287805 \tValidation Loss: 0.339784 \tValidation Accuracy: 0.886900\n",
            "Validation loss decreased (0.346464 --> 0.339784).  Saving model ...\n",
            "Epoch: 10 \tTraining Loss: 0.263879 \tValidation Loss: 0.402909 \tValidation Accuracy: 0.871100\n",
            "Epoch: 11 \tTraining Loss: 0.246549 \tValidation Loss: 0.379317 \tValidation Accuracy: 0.880100\n",
            "Epoch: 12 \tTraining Loss: 0.231499 \tValidation Loss: 0.320051 \tValidation Accuracy: 0.894200\n",
            "Validation loss decreased (0.339784 --> 0.320051).  Saving model ...\n",
            "Epoch: 13 \tTraining Loss: 0.212376 \tValidation Loss: 0.294910 \tValidation Accuracy: 0.900800\n",
            "Validation loss decreased (0.320051 --> 0.294910).  Saving model ...\n"
          ]
        },
        {
          "output_type": "stream",
          "name": "stderr",
          "text": [
            "[I 2023-11-22 20:37:16,240] Trial 3 finished with value: 0.20085255991411397 and parameters: {'batch_size': 16, 'lr': 0.0008128258749754285, 'weight_decay': 2.3669161945559983e-05}. Best is trial 3 with value: 0.20085255991411397.\n"
          ]
        },
        {
          "output_type": "stream",
          "name": "stdout",
          "text": [
            "Epoch: 14 \tTraining Loss: 0.200853 \tValidation Loss: 0.316452 \tValidation Accuracy: 0.899600\n",
            "\n",
            "----------- Finished Training -----------\n",
            "Epoch: 0 \tTraining Loss: 1.156310 \tValidation Loss: 0.819599 \tValidation Accuracy: 0.709400\n",
            "Validation loss decreased (inf --> 0.819599).  Saving model ...\n",
            "Epoch: 1 \tTraining Loss: 0.728322 \tValidation Loss: 0.569875 \tValidation Accuracy: 0.807200\n",
            "Validation loss decreased (0.819599 --> 0.569875).  Saving model ...\n",
            "Epoch: 2 \tTraining Loss: 0.575251 \tValidation Loss: 0.478079 \tValidation Accuracy: 0.835500\n",
            "Validation loss decreased (0.569875 --> 0.478079).  Saving model ...\n",
            "Epoch: 3 \tTraining Loss: 0.487409 \tValidation Loss: 0.458058 \tValidation Accuracy: 0.846200\n",
            "Validation loss decreased (0.478079 --> 0.458058).  Saving model ...\n",
            "Epoch: 4 \tTraining Loss: 0.427410 \tValidation Loss: 0.440244 \tValidation Accuracy: 0.853700\n",
            "Validation loss decreased (0.458058 --> 0.440244).  Saving model ...\n",
            "Epoch: 5 \tTraining Loss: 0.376989 \tValidation Loss: 0.392155 \tValidation Accuracy: 0.867200\n",
            "Validation loss decreased (0.440244 --> 0.392155).  Saving model ...\n",
            "Epoch: 6 \tTraining Loss: 0.333774 \tValidation Loss: 0.363375 \tValidation Accuracy: 0.875400\n",
            "Validation loss decreased (0.392155 --> 0.363375).  Saving model ...\n",
            "Epoch: 7 \tTraining Loss: 0.301947 \tValidation Loss: 0.347080 \tValidation Accuracy: 0.883200\n",
            "Validation loss decreased (0.363375 --> 0.347080).  Saving model ...\n",
            "Epoch: 8 \tTraining Loss: 0.276513 \tValidation Loss: 0.340028 \tValidation Accuracy: 0.883600\n",
            "Validation loss decreased (0.347080 --> 0.340028).  Saving model ...\n",
            "Epoch: 9 \tTraining Loss: 0.249734 \tValidation Loss: 0.334172 \tValidation Accuracy: 0.889100\n",
            "Validation loss decreased (0.340028 --> 0.334172).  Saving model ...\n",
            "Epoch: 10 \tTraining Loss: 0.232631 \tValidation Loss: 0.319597 \tValidation Accuracy: 0.890100\n",
            "Validation loss decreased (0.334172 --> 0.319597).  Saving model ...\n",
            "Epoch: 11 \tTraining Loss: 0.204225 \tValidation Loss: 0.314582 \tValidation Accuracy: 0.894100\n",
            "Validation loss decreased (0.319597 --> 0.314582).  Saving model ...\n",
            "Epoch: 12 \tTraining Loss: 0.191331 \tValidation Loss: 0.318417 \tValidation Accuracy: 0.894500\n",
            "Epoch: 13 \tTraining Loss: 0.172985 \tValidation Loss: 0.289423 \tValidation Accuracy: 0.904700\n",
            "Validation loss decreased (0.314582 --> 0.289423).  Saving model ...\n"
          ]
        },
        {
          "output_type": "stream",
          "name": "stderr",
          "text": [
            "[I 2023-11-22 20:46:05,001] Trial 4 finished with value: 0.15738381710797547 and parameters: {'batch_size': 32, 'lr': 0.00030594706127614826, 'weight_decay': 1.5342234068033222e-05}. Best is trial 4 with value: 0.15738381710797547.\n"
          ]
        },
        {
          "output_type": "stream",
          "name": "stdout",
          "text": [
            "Epoch: 14 \tTraining Loss: 0.157384 \tValidation Loss: 0.325679 \tValidation Accuracy: 0.892100\n",
            "\n",
            "----------- Finished Training -----------\n",
            "Epoch: 0 \tTraining Loss: 1.168010 \tValidation Loss: 0.789960 \tValidation Accuracy: 0.721900\n",
            "Validation loss decreased (inf --> 0.789960).  Saving model ...\n",
            "Epoch: 1 \tTraining Loss: 0.733359 \tValidation Loss: 0.583916 \tValidation Accuracy: 0.804200\n",
            "Validation loss decreased (0.789960 --> 0.583916).  Saving model ...\n",
            "Epoch: 2 \tTraining Loss: 0.572551 \tValidation Loss: 0.518449 \tValidation Accuracy: 0.820600\n",
            "Validation loss decreased (0.583916 --> 0.518449).  Saving model ...\n",
            "Epoch: 3 \tTraining Loss: 0.487553 \tValidation Loss: 0.522928 \tValidation Accuracy: 0.817300\n",
            "Epoch: 4 \tTraining Loss: 0.428289 \tValidation Loss: 0.385938 \tValidation Accuracy: 0.866700\n",
            "Validation loss decreased (0.518449 --> 0.385938).  Saving model ...\n",
            "Epoch: 5 \tTraining Loss: 0.386138 \tValidation Loss: 0.394272 \tValidation Accuracy: 0.865800\n",
            "Epoch: 6 \tTraining Loss: 0.339757 \tValidation Loss: 0.385428 \tValidation Accuracy: 0.873400\n",
            "Validation loss decreased (0.385938 --> 0.385428).  Saving model ...\n",
            "Epoch: 7 \tTraining Loss: 0.305571 \tValidation Loss: 0.361435 \tValidation Accuracy: 0.875600\n",
            "Validation loss decreased (0.385428 --> 0.361435).  Saving model ...\n",
            "Epoch: 8 \tTraining Loss: 0.278308 \tValidation Loss: 0.358134 \tValidation Accuracy: 0.879700\n",
            "Validation loss decreased (0.361435 --> 0.358134).  Saving model ...\n",
            "Epoch: 9 \tTraining Loss: 0.254993 \tValidation Loss: 0.345554 \tValidation Accuracy: 0.882100\n",
            "Validation loss decreased (0.358134 --> 0.345554).  Saving model ...\n",
            "Epoch: 10 \tTraining Loss: 0.232233 \tValidation Loss: 0.341045 \tValidation Accuracy: 0.888600\n",
            "Validation loss decreased (0.345554 --> 0.341045).  Saving model ...\n",
            "Epoch: 11 \tTraining Loss: 0.219958 \tValidation Loss: 0.359937 \tValidation Accuracy: 0.880800\n",
            "Epoch: 12 \tTraining Loss: 0.199910 \tValidation Loss: 0.303881 \tValidation Accuracy: 0.896500\n",
            "Validation loss decreased (0.341045 --> 0.303881).  Saving model ...\n",
            "Epoch: 13 \tTraining Loss: 0.179452 \tValidation Loss: 0.320771 \tValidation Accuracy: 0.894200\n"
          ]
        },
        {
          "output_type": "stream",
          "name": "stderr",
          "text": [
            "[I 2023-11-22 20:54:51,508] Trial 5 finished with value: 0.1687387450091541 and parameters: {'batch_size': 32, 'lr': 0.00026478304593268207, 'weight_decay': 7.437736282877775e-05}. Best is trial 4 with value: 0.15738381710797547.\n"
          ]
        },
        {
          "output_type": "stream",
          "name": "stdout",
          "text": [
            "Epoch: 14 \tTraining Loss: 0.168739 \tValidation Loss: 0.291162 \tValidation Accuracy: 0.902600\n",
            "Validation loss decreased (0.303881 --> 0.291162).  Saving model ...\n",
            "\n",
            "----------- Finished Training -----------\n",
            "Epoch: 0 \tTraining Loss: 1.228503 \tValidation Loss: 1.057053 \tValidation Accuracy: 0.633400\n",
            "Validation loss decreased (inf --> 1.057053).  Saving model ...\n",
            "Epoch: 1 \tTraining Loss: 0.773629 \tValidation Loss: 0.618086 \tValidation Accuracy: 0.787000\n",
            "Validation loss decreased (1.057053 --> 0.618086).  Saving model ...\n",
            "Epoch: 2 \tTraining Loss: 0.617944 \tValidation Loss: 0.575885 \tValidation Accuracy: 0.808400\n",
            "Validation loss decreased (0.618086 --> 0.575885).  Saving model ...\n",
            "Epoch: 3 \tTraining Loss: 0.513454 \tValidation Loss: 0.542655 \tValidation Accuracy: 0.813500\n",
            "Validation loss decreased (0.575885 --> 0.542655).  Saving model ...\n",
            "Epoch: 4 \tTraining Loss: 0.445618 \tValidation Loss: 0.470141 \tValidation Accuracy: 0.837600\n",
            "Validation loss decreased (0.542655 --> 0.470141).  Saving model ...\n",
            "Epoch: 5 \tTraining Loss: 0.401356 \tValidation Loss: 0.409916 \tValidation Accuracy: 0.861300\n",
            "Validation loss decreased (0.470141 --> 0.409916).  Saving model ...\n",
            "Epoch: 6 \tTraining Loss: 0.351510 \tValidation Loss: 0.361695 \tValidation Accuracy: 0.879100\n",
            "Validation loss decreased (0.409916 --> 0.361695).  Saving model ...\n",
            "Epoch: 7 \tTraining Loss: 0.312978 \tValidation Loss: 0.404418 \tValidation Accuracy: 0.867300\n",
            "Epoch: 8 \tTraining Loss: 0.279530 \tValidation Loss: 0.390947 \tValidation Accuracy: 0.869600\n",
            "Epoch: 9 \tTraining Loss: 0.249796 \tValidation Loss: 0.411645 \tValidation Accuracy: 0.865500\n",
            "Epoch: 10 \tTraining Loss: 0.226125 \tValidation Loss: 0.327424 \tValidation Accuracy: 0.891600\n",
            "Validation loss decreased (0.361695 --> 0.327424).  Saving model ...\n",
            "Epoch: 11 \tTraining Loss: 0.206007 \tValidation Loss: 0.334667 \tValidation Accuracy: 0.893400\n",
            "Epoch: 12 \tTraining Loss: 0.196428 \tValidation Loss: 0.312345 \tValidation Accuracy: 0.900800\n",
            "Validation loss decreased (0.327424 --> 0.312345).  Saving model ...\n",
            "Epoch: 13 \tTraining Loss: 0.171092 \tValidation Loss: 0.353218 \tValidation Accuracy: 0.887500\n"
          ]
        },
        {
          "output_type": "stream",
          "name": "stderr",
          "text": [
            "[I 2023-11-22 21:03:43,341] Trial 6 finished with value: 0.1607035493902862 and parameters: {'batch_size': 32, 'lr': 0.0009684456151907581, 'weight_decay': 5.8724736201378975e-06}. Best is trial 4 with value: 0.15738381710797547.\n"
          ]
        },
        {
          "output_type": "stream",
          "name": "stdout",
          "text": [
            "Epoch: 14 \tTraining Loss: 0.160704 \tValidation Loss: 0.327092 \tValidation Accuracy: 0.898100\n",
            "\n",
            "----------- Finished Training -----------\n",
            "Epoch: 0 \tTraining Loss: 1.582663 \tValidation Loss: 1.252192 \tValidation Accuracy: 0.561800\n",
            "Validation loss decreased (inf --> 1.252192).  Saving model ...\n",
            "Epoch: 1 \tTraining Loss: 1.240217 \tValidation Loss: 1.077539 \tValidation Accuracy: 0.619800\n",
            "Validation loss decreased (1.252192 --> 1.077539).  Saving model ...\n",
            "Epoch: 2 \tTraining Loss: 1.099106 \tValidation Loss: 0.987189 \tValidation Accuracy: 0.650500\n",
            "Validation loss decreased (1.077539 --> 0.987189).  Saving model ...\n",
            "Epoch: 3 \tTraining Loss: 1.006832 \tValidation Loss: 0.931942 \tValidation Accuracy: 0.669500\n",
            "Validation loss decreased (0.987189 --> 0.931942).  Saving model ...\n",
            "Epoch: 4 \tTraining Loss: 0.935806 \tValidation Loss: 0.859776 \tValidation Accuracy: 0.694700\n",
            "Validation loss decreased (0.931942 --> 0.859776).  Saving model ...\n",
            "Epoch: 5 \tTraining Loss: 0.880501 \tValidation Loss: 0.816835 \tValidation Accuracy: 0.715000\n",
            "Validation loss decreased (0.859776 --> 0.816835).  Saving model ...\n",
            "Epoch: 6 \tTraining Loss: 0.832587 \tValidation Loss: 0.782136 \tValidation Accuracy: 0.725700\n",
            "Validation loss decreased (0.816835 --> 0.782136).  Saving model ...\n",
            "Epoch: 7 \tTraining Loss: 0.794224 \tValidation Loss: 0.761838 \tValidation Accuracy: 0.734100\n",
            "Validation loss decreased (0.782136 --> 0.761838).  Saving model ...\n",
            "Epoch: 8 \tTraining Loss: 0.750341 \tValidation Loss: 0.761369 \tValidation Accuracy: 0.732600\n",
            "Validation loss decreased (0.761838 --> 0.761369).  Saving model ...\n",
            "Epoch: 9 \tTraining Loss: 0.723145 \tValidation Loss: 0.741629 \tValidation Accuracy: 0.740900\n",
            "Validation loss decreased (0.761369 --> 0.741629).  Saving model ...\n",
            "Epoch: 10 \tTraining Loss: 0.698156 \tValidation Loss: 0.683441 \tValidation Accuracy: 0.763700\n",
            "Validation loss decreased (0.741629 --> 0.683441).  Saving model ...\n",
            "Epoch: 11 \tTraining Loss: 0.666731 \tValidation Loss: 0.687406 \tValidation Accuracy: 0.757000\n",
            "Epoch: 12 \tTraining Loss: 0.636330 \tValidation Loss: 0.686708 \tValidation Accuracy: 0.760300\n",
            "Epoch: 13 \tTraining Loss: 0.616766 \tValidation Loss: 0.637153 \tValidation Accuracy: 0.780600\n",
            "Validation loss decreased (0.683441 --> 0.637153).  Saving model ...\n"
          ]
        },
        {
          "output_type": "stream",
          "name": "stderr",
          "text": [
            "[I 2023-11-22 21:11:11,757] Trial 7 finished with value: 0.5948207966327668 and parameters: {'batch_size': 64, 'lr': 1.0596368533857326e-05, 'weight_decay': 5.6253286051704e-05}. Best is trial 4 with value: 0.15738381710797547.\n"
          ]
        },
        {
          "output_type": "stream",
          "name": "stdout",
          "text": [
            "Epoch: 14 \tTraining Loss: 0.594821 \tValidation Loss: 0.614461 \tValidation Accuracy: 0.782300\n",
            "Validation loss decreased (0.637153 --> 0.614461).  Saving model ...\n",
            "\n",
            "----------- Finished Training -----------\n",
            "Epoch: 0 \tTraining Loss: 1.316691 \tValidation Loss: 0.960633 \tValidation Accuracy: 0.662600\n",
            "Validation loss decreased (inf --> 0.960633).  Saving model ...\n",
            "Epoch: 1 \tTraining Loss: 0.950124 \tValidation Loss: 0.856058 \tValidation Accuracy: 0.689600\n",
            "Validation loss decreased (0.960633 --> 0.856058).  Saving model ...\n",
            "Epoch: 2 \tTraining Loss: 0.788644 \tValidation Loss: 0.716000 \tValidation Accuracy: 0.752100\n",
            "Validation loss decreased (0.856058 --> 0.716000).  Saving model ...\n",
            "Epoch: 3 \tTraining Loss: 0.688539 \tValidation Loss: 0.621268 \tValidation Accuracy: 0.782000\n",
            "Validation loss decreased (0.716000 --> 0.621268).  Saving model ...\n",
            "Epoch: 4 \tTraining Loss: 0.615303 \tValidation Loss: 0.573734 \tValidation Accuracy: 0.798300\n",
            "Validation loss decreased (0.621268 --> 0.573734).  Saving model ...\n",
            "Epoch: 5 \tTraining Loss: 0.558917 \tValidation Loss: 0.540344 \tValidation Accuracy: 0.814100\n",
            "Validation loss decreased (0.573734 --> 0.540344).  Saving model ...\n",
            "Epoch: 6 \tTraining Loss: 0.516682 \tValidation Loss: 0.526926 \tValidation Accuracy: 0.815900\n",
            "Validation loss decreased (0.540344 --> 0.526926).  Saving model ...\n",
            "Epoch: 7 \tTraining Loss: 0.481134 \tValidation Loss: 0.500179 \tValidation Accuracy: 0.829100\n",
            "Validation loss decreased (0.526926 --> 0.500179).  Saving model ...\n",
            "Epoch: 8 \tTraining Loss: 0.440181 \tValidation Loss: 0.460550 \tValidation Accuracy: 0.837600\n",
            "Validation loss decreased (0.500179 --> 0.460550).  Saving model ...\n",
            "Epoch: 9 \tTraining Loss: 0.413704 \tValidation Loss: 0.444836 \tValidation Accuracy: 0.844600\n",
            "Validation loss decreased (0.460550 --> 0.444836).  Saving model ...\n",
            "Epoch: 10 \tTraining Loss: 0.383521 \tValidation Loss: 0.425199 \tValidation Accuracy: 0.855300\n",
            "Validation loss decreased (0.444836 --> 0.425199).  Saving model ...\n",
            "Epoch: 11 \tTraining Loss: 0.363804 \tValidation Loss: 0.440683 \tValidation Accuracy: 0.851700\n",
            "Epoch: 12 \tTraining Loss: 0.345380 \tValidation Loss: 0.428761 \tValidation Accuracy: 0.848900\n",
            "Epoch: 13 \tTraining Loss: 0.327874 \tValidation Loss: 0.409281 \tValidation Accuracy: 0.858300\n",
            "Validation loss decreased (0.425199 --> 0.409281).  Saving model ...\n"
          ]
        },
        {
          "output_type": "stream",
          "name": "stderr",
          "text": [
            "[I 2023-11-22 21:20:06,026] Trial 8 finished with value: 0.3065799014419317 and parameters: {'batch_size': 32, 'lr': 3.297668366174174e-05, 'weight_decay': 9.629684757796014e-05}. Best is trial 4 with value: 0.15738381710797547.\n"
          ]
        },
        {
          "output_type": "stream",
          "name": "stdout",
          "text": [
            "Epoch: 14 \tTraining Loss: 0.306580 \tValidation Loss: 0.397035 \tValidation Accuracy: 0.864800\n",
            "Validation loss decreased (0.409281 --> 0.397035).  Saving model ...\n",
            "\n",
            "----------- Finished Training -----------\n",
            "Epoch: 0 \tTraining Loss: 1.318332 \tValidation Loss: 0.996230 \tValidation Accuracy: 0.649400\n",
            "Validation loss decreased (inf --> 0.996230).  Saving model ...\n",
            "Epoch: 1 \tTraining Loss: 0.954218 \tValidation Loss: 0.829455 \tValidation Accuracy: 0.707900\n",
            "Validation loss decreased (0.996230 --> 0.829455).  Saving model ...\n",
            "Epoch: 2 \tTraining Loss: 0.794434 \tValidation Loss: 0.768917 \tValidation Accuracy: 0.727400\n",
            "Validation loss decreased (0.829455 --> 0.768917).  Saving model ...\n",
            "Epoch: 3 \tTraining Loss: 0.675753 \tValidation Loss: 0.647854 \tValidation Accuracy: 0.770600\n",
            "Validation loss decreased (0.768917 --> 0.647854).  Saving model ...\n",
            "Epoch: 4 \tTraining Loss: 0.603166 \tValidation Loss: 0.551121 \tValidation Accuracy: 0.808300\n",
            "Validation loss decreased (0.647854 --> 0.551121).  Saving model ...\n",
            "Epoch: 5 \tTraining Loss: 0.541548 \tValidation Loss: 0.560774 \tValidation Accuracy: 0.803800\n",
            "Epoch: 6 \tTraining Loss: 0.493414 \tValidation Loss: 0.515823 \tValidation Accuracy: 0.821400\n",
            "Validation loss decreased (0.551121 --> 0.515823).  Saving model ...\n",
            "Epoch: 7 \tTraining Loss: 0.448914 \tValidation Loss: 0.513524 \tValidation Accuracy: 0.821200\n",
            "Validation loss decreased (0.515823 --> 0.513524).  Saving model ...\n",
            "Epoch: 8 \tTraining Loss: 0.418235 \tValidation Loss: 0.456969 \tValidation Accuracy: 0.841200\n",
            "Validation loss decreased (0.513524 --> 0.456969).  Saving model ...\n",
            "Epoch: 9 \tTraining Loss: 0.387002 \tValidation Loss: 0.450338 \tValidation Accuracy: 0.844100\n",
            "Validation loss decreased (0.456969 --> 0.450338).  Saving model ...\n",
            "Epoch: 10 \tTraining Loss: 0.360789 \tValidation Loss: 0.420059 \tValidation Accuracy: 0.857600\n",
            "Validation loss decreased (0.450338 --> 0.420059).  Saving model ...\n",
            "Epoch: 11 \tTraining Loss: 0.335887 \tValidation Loss: 0.422976 \tValidation Accuracy: 0.856500\n",
            "Epoch: 12 \tTraining Loss: 0.315828 \tValidation Loss: 0.447276 \tValidation Accuracy: 0.848200\n",
            "Epoch: 13 \tTraining Loss: 0.293064 \tValidation Loss: 0.434362 \tValidation Accuracy: 0.853900\n"
          ]
        },
        {
          "output_type": "stream",
          "name": "stderr",
          "text": [
            "[I 2023-11-22 21:27:35,537] Trial 9 finished with value: 0.2730850472807884 and parameters: {'batch_size': 64, 'lr': 5.323424727257437e-05, 'weight_decay': 3.28410347001024e-05}. Best is trial 4 with value: 0.15738381710797547.\n"
          ]
        },
        {
          "output_type": "stream",
          "name": "stdout",
          "text": [
            "Epoch: 14 \tTraining Loss: 0.273085 \tValidation Loss: 0.423608 \tValidation Accuracy: 0.858800\n",
            "\n",
            "----------- Finished Training -----------\n",
            "Epoch: 0 \tTraining Loss: 1.153695 \tValidation Loss: 0.772102 \tValidation Accuracy: 0.726700\n",
            "Validation loss decreased (inf --> 0.772102).  Saving model ...\n",
            "Epoch: 1 \tTraining Loss: 0.742902 \tValidation Loss: 0.624100 \tValidation Accuracy: 0.779400\n",
            "Validation loss decreased (0.772102 --> 0.624100).  Saving model ...\n",
            "Epoch: 2 \tTraining Loss: 0.598851 \tValidation Loss: 0.559415 \tValidation Accuracy: 0.809000\n",
            "Validation loss decreased (0.624100 --> 0.559415).  Saving model ...\n",
            "Epoch: 3 \tTraining Loss: 0.509912 \tValidation Loss: 0.463508 \tValidation Accuracy: 0.840300\n",
            "Validation loss decreased (0.559415 --> 0.463508).  Saving model ...\n",
            "Epoch: 4 \tTraining Loss: 0.446045 \tValidation Loss: 0.448681 \tValidation Accuracy: 0.847700\n",
            "Validation loss decreased (0.463508 --> 0.448681).  Saving model ...\n",
            "Epoch: 5 \tTraining Loss: 0.394430 \tValidation Loss: 0.437945 \tValidation Accuracy: 0.852400\n",
            "Validation loss decreased (0.448681 --> 0.437945).  Saving model ...\n",
            "Epoch: 6 \tTraining Loss: 0.358977 \tValidation Loss: 0.369899 \tValidation Accuracy: 0.873500\n",
            "Validation loss decreased (0.437945 --> 0.369899).  Saving model ...\n",
            "Epoch: 7 \tTraining Loss: 0.322909 \tValidation Loss: 0.401155 \tValidation Accuracy: 0.862500\n",
            "Epoch: 8 \tTraining Loss: 0.287920 \tValidation Loss: 0.388317 \tValidation Accuracy: 0.869600\n",
            "Epoch: 9 \tTraining Loss: 0.264193 \tValidation Loss: 0.361063 \tValidation Accuracy: 0.876900\n",
            "Validation loss decreased (0.369899 --> 0.361063).  Saving model ...\n",
            "Epoch: 10 \tTraining Loss: 0.243502 \tValidation Loss: 0.357358 \tValidation Accuracy: 0.877600\n",
            "Validation loss decreased (0.361063 --> 0.357358).  Saving model ...\n",
            "Epoch: 11 \tTraining Loss: 0.220743 \tValidation Loss: 0.316306 \tValidation Accuracy: 0.892300\n",
            "Validation loss decreased (0.357358 --> 0.316306).  Saving model ...\n",
            "Epoch: 12 \tTraining Loss: 0.204624 \tValidation Loss: 0.348703 \tValidation Accuracy: 0.883500\n",
            "Epoch: 13 \tTraining Loss: 0.188993 \tValidation Loss: 0.338862 \tValidation Accuracy: 0.883800\n"
          ]
        },
        {
          "output_type": "stream",
          "name": "stderr",
          "text": [
            "[I 2023-11-22 21:36:26,003] Trial 10 finished with value: 0.17295410988628865 and parameters: {'batch_size': 32, 'lr': 0.0001485572420894254, 'weight_decay': 1.1570390831219157e-06}. Best is trial 4 with value: 0.15738381710797547.\n"
          ]
        },
        {
          "output_type": "stream",
          "name": "stdout",
          "text": [
            "Epoch: 14 \tTraining Loss: 0.172954 \tValidation Loss: 0.322598 \tValidation Accuracy: 0.892400\n",
            "\n",
            "----------- Finished Training -----------\n",
            "Epoch: 0 \tTraining Loss: 1.291507 \tValidation Loss: 0.854556 \tValidation Accuracy: 0.698200\n",
            "Validation loss decreased (inf --> 0.854556).  Saving model ...\n",
            "Epoch: 1 \tTraining Loss: 0.796472 \tValidation Loss: 0.706685 \tValidation Accuracy: 0.762700\n",
            "Validation loss decreased (0.854556 --> 0.706685).  Saving model ...\n",
            "Epoch: 2 \tTraining Loss: 0.628325 \tValidation Loss: 0.544641 \tValidation Accuracy: 0.810000\n",
            "Validation loss decreased (0.706685 --> 0.544641).  Saving model ...\n",
            "Epoch: 3 \tTraining Loss: 0.535479 \tValidation Loss: 0.453657 \tValidation Accuracy: 0.848600\n",
            "Validation loss decreased (0.544641 --> 0.453657).  Saving model ...\n",
            "Epoch: 4 \tTraining Loss: 0.453580 \tValidation Loss: 0.501566 \tValidation Accuracy: 0.830700\n",
            "Epoch: 5 \tTraining Loss: 0.400607 \tValidation Loss: 0.431453 \tValidation Accuracy: 0.850100\n",
            "Validation loss decreased (0.453657 --> 0.431453).  Saving model ...\n",
            "Epoch: 6 \tTraining Loss: 0.353552 \tValidation Loss: 0.382108 \tValidation Accuracy: 0.869200\n",
            "Validation loss decreased (0.431453 --> 0.382108).  Saving model ...\n",
            "Epoch: 7 \tTraining Loss: 0.321277 \tValidation Loss: 0.410533 \tValidation Accuracy: 0.862800\n",
            "Epoch: 8 \tTraining Loss: 0.287830 \tValidation Loss: 0.394068 \tValidation Accuracy: 0.865000\n",
            "Epoch: 9 \tTraining Loss: 0.255358 \tValidation Loss: 0.391352 \tValidation Accuracy: 0.873100\n",
            "Epoch: 10 \tTraining Loss: 0.235005 \tValidation Loss: 0.303981 \tValidation Accuracy: 0.899200\n",
            "Validation loss decreased (0.382108 --> 0.303981).  Saving model ...\n",
            "Epoch: 11 \tTraining Loss: 0.209745 \tValidation Loss: 0.343087 \tValidation Accuracy: 0.889900\n",
            "Epoch: 12 \tTraining Loss: 0.194719 \tValidation Loss: 0.312006 \tValidation Accuracy: 0.895300\n",
            "Epoch: 13 \tTraining Loss: 0.177231 \tValidation Loss: 0.307237 \tValidation Accuracy: 0.902400\n"
          ]
        },
        {
          "output_type": "stream",
          "name": "stderr",
          "text": [
            "[I 2023-11-22 21:45:25,511] Trial 11 finished with value: 0.1537576436020434 and parameters: {'batch_size': 32, 'lr': 0.0009271466912472205, 'weight_decay': 3.348677382119085e-06}. Best is trial 11 with value: 0.1537576436020434.\n"
          ]
        },
        {
          "output_type": "stream",
          "name": "stdout",
          "text": [
            "Epoch: 14 \tTraining Loss: 0.153758 \tValidation Loss: 0.313236 \tValidation Accuracy: 0.897900\n",
            "\n",
            "----------- Finished Training -----------\n",
            "Epoch: 0 \tTraining Loss: 1.167562 \tValidation Loss: 0.857452 \tValidation Accuracy: 0.702200\n",
            "Validation loss decreased (inf --> 0.857452).  Saving model ...\n",
            "Epoch: 1 \tTraining Loss: 0.724658 \tValidation Loss: 0.664139 \tValidation Accuracy: 0.765200\n",
            "Validation loss decreased (0.857452 --> 0.664139).  Saving model ...\n",
            "Epoch: 2 \tTraining Loss: 0.579260 \tValidation Loss: 0.486179 \tValidation Accuracy: 0.832300\n",
            "Validation loss decreased (0.664139 --> 0.486179).  Saving model ...\n",
            "Epoch: 3 \tTraining Loss: 0.492827 \tValidation Loss: 0.453167 \tValidation Accuracy: 0.839000\n",
            "Validation loss decreased (0.486179 --> 0.453167).  Saving model ...\n",
            "Epoch: 4 \tTraining Loss: 0.426783 \tValidation Loss: 0.436581 \tValidation Accuracy: 0.846300\n",
            "Validation loss decreased (0.453167 --> 0.436581).  Saving model ...\n",
            "Epoch: 5 \tTraining Loss: 0.376877 \tValidation Loss: 0.415252 \tValidation Accuracy: 0.855200\n",
            "Validation loss decreased (0.436581 --> 0.415252).  Saving model ...\n",
            "Epoch: 6 \tTraining Loss: 0.341988 \tValidation Loss: 0.364729 \tValidation Accuracy: 0.875600\n",
            "Validation loss decreased (0.415252 --> 0.364729).  Saving model ...\n",
            "Epoch: 7 \tTraining Loss: 0.305250 \tValidation Loss: 0.319147 \tValidation Accuracy: 0.891800\n",
            "Validation loss decreased (0.364729 --> 0.319147).  Saving model ...\n",
            "Epoch: 8 \tTraining Loss: 0.273405 \tValidation Loss: 0.375745 \tValidation Accuracy: 0.873500\n",
            "Epoch: 9 \tTraining Loss: 0.250613 \tValidation Loss: 0.367729 \tValidation Accuracy: 0.875500\n",
            "Epoch: 10 \tTraining Loss: 0.226041 \tValidation Loss: 0.335069 \tValidation Accuracy: 0.889000\n",
            "Epoch: 11 \tTraining Loss: 0.209831 \tValidation Loss: 0.333481 \tValidation Accuracy: 0.888300\n",
            "Epoch: 12 \tTraining Loss: 0.185051 \tValidation Loss: 0.334559 \tValidation Accuracy: 0.890000\n",
            "Epoch: 13 \tTraining Loss: 0.172686 \tValidation Loss: 0.299657 \tValidation Accuracy: 0.903000\n",
            "Validation loss decreased (0.319147 --> 0.299657).  Saving model ...\n"
          ]
        },
        {
          "output_type": "stream",
          "name": "stderr",
          "text": [
            "[I 2023-11-22 21:54:23,652] Trial 12 finished with value: 0.1569633334554732 and parameters: {'batch_size': 32, 'lr': 0.0004202602996997231, 'weight_decay': 1.593681784806845e-05}. Best is trial 11 with value: 0.1537576436020434.\n"
          ]
        },
        {
          "output_type": "stream",
          "name": "stdout",
          "text": [
            "Epoch: 14 \tTraining Loss: 0.156963 \tValidation Loss: 0.309136 \tValidation Accuracy: 0.898200\n",
            "\n",
            "----------- Finished Training -----------\n",
            "Epoch: 0 \tTraining Loss: 1.182061 \tValidation Loss: 0.850212 \tValidation Accuracy: 0.705700\n",
            "Validation loss decreased (inf --> 0.850212).  Saving model ...\n",
            "Epoch: 1 \tTraining Loss: 0.738912 \tValidation Loss: 0.560044 \tValidation Accuracy: 0.804300\n",
            "Validation loss decreased (0.850212 --> 0.560044).  Saving model ...\n",
            "Epoch: 2 \tTraining Loss: 0.581980 \tValidation Loss: 0.536346 \tValidation Accuracy: 0.815200\n",
            "Validation loss decreased (0.560044 --> 0.536346).  Saving model ...\n",
            "Epoch: 3 \tTraining Loss: 0.492963 \tValidation Loss: 0.436617 \tValidation Accuracy: 0.848000\n",
            "Validation loss decreased (0.536346 --> 0.436617).  Saving model ...\n",
            "Epoch: 4 \tTraining Loss: 0.426079 \tValidation Loss: 0.443546 \tValidation Accuracy: 0.848100\n",
            "Epoch: 5 \tTraining Loss: 0.377979 \tValidation Loss: 0.410917 \tValidation Accuracy: 0.857600\n",
            "Validation loss decreased (0.436617 --> 0.410917).  Saving model ...\n",
            "Epoch: 6 \tTraining Loss: 0.336752 \tValidation Loss: 0.396130 \tValidation Accuracy: 0.864400\n",
            "Validation loss decreased (0.410917 --> 0.396130).  Saving model ...\n",
            "Epoch: 7 \tTraining Loss: 0.301912 \tValidation Loss: 0.340809 \tValidation Accuracy: 0.885500\n",
            "Validation loss decreased (0.396130 --> 0.340809).  Saving model ...\n",
            "Epoch: 8 \tTraining Loss: 0.273571 \tValidation Loss: 0.366548 \tValidation Accuracy: 0.871200\n",
            "Epoch: 9 \tTraining Loss: 0.242121 \tValidation Loss: 0.320140 \tValidation Accuracy: 0.892300\n",
            "Validation loss decreased (0.340809 --> 0.320140).  Saving model ...\n",
            "Epoch: 10 \tTraining Loss: 0.214245 \tValidation Loss: 0.302429 \tValidation Accuracy: 0.896800\n",
            "Validation loss decreased (0.320140 --> 0.302429).  Saving model ...\n",
            "Epoch: 11 \tTraining Loss: 0.200965 \tValidation Loss: 0.296196 \tValidation Accuracy: 0.900300\n",
            "Validation loss decreased (0.302429 --> 0.296196).  Saving model ...\n",
            "Epoch: 12 \tTraining Loss: 0.181627 \tValidation Loss: 0.306165 \tValidation Accuracy: 0.899900\n",
            "Epoch: 13 \tTraining Loss: 0.167278 \tValidation Loss: 0.274012 \tValidation Accuracy: 0.908900\n",
            "Validation loss decreased (0.296196 --> 0.274012).  Saving model ...\n"
          ]
        },
        {
          "output_type": "stream",
          "name": "stderr",
          "text": [
            "[I 2023-11-22 22:03:19,219] Trial 13 finished with value: 0.14781985794454813 and parameters: {'batch_size': 32, 'lr': 0.0004931081298378134, 'weight_decay': 6.465137759110095e-07}. Best is trial 13 with value: 0.14781985794454813.\n"
          ]
        },
        {
          "output_type": "stream",
          "name": "stdout",
          "text": [
            "Epoch: 14 \tTraining Loss: 0.147820 \tValidation Loss: 0.287075 \tValidation Accuracy: 0.905800\n",
            "\n",
            "----------- Finished Training -----------\n",
            "Epoch: 0 \tTraining Loss: 1.181259 \tValidation Loss: 0.829472 \tValidation Accuracy: 0.702800\n",
            "Validation loss decreased (inf --> 0.829472).  Saving model ...\n",
            "Epoch: 1 \tTraining Loss: 0.730932 \tValidation Loss: 0.657408 \tValidation Accuracy: 0.770900\n",
            "Validation loss decreased (0.829472 --> 0.657408).  Saving model ...\n",
            "Epoch: 2 \tTraining Loss: 0.584387 \tValidation Loss: 0.502667 \tValidation Accuracy: 0.828100\n",
            "Validation loss decreased (0.657408 --> 0.502667).  Saving model ...\n",
            "Epoch: 3 \tTraining Loss: 0.493785 \tValidation Loss: 0.550145 \tValidation Accuracy: 0.815500\n",
            "Epoch: 4 \tTraining Loss: 0.424484 \tValidation Loss: 0.429577 \tValidation Accuracy: 0.851800\n",
            "Validation loss decreased (0.502667 --> 0.429577).  Saving model ...\n",
            "Epoch: 5 \tTraining Loss: 0.377938 \tValidation Loss: 0.457635 \tValidation Accuracy: 0.849300\n",
            "Epoch: 6 \tTraining Loss: 0.333562 \tValidation Loss: 0.377237 \tValidation Accuracy: 0.870400\n",
            "Validation loss decreased (0.429577 --> 0.377237).  Saving model ...\n",
            "Epoch: 7 \tTraining Loss: 0.294439 \tValidation Loss: 0.383041 \tValidation Accuracy: 0.871800\n",
            "Epoch: 8 \tTraining Loss: 0.272033 \tValidation Loss: 0.363500 \tValidation Accuracy: 0.875900\n",
            "Validation loss decreased (0.377237 --> 0.363500).  Saving model ...\n",
            "Epoch: 9 \tTraining Loss: 0.242587 \tValidation Loss: 0.412213 \tValidation Accuracy: 0.863700\n",
            "Epoch: 10 \tTraining Loss: 0.221855 \tValidation Loss: 0.346050 \tValidation Accuracy: 0.882900\n",
            "Validation loss decreased (0.363500 --> 0.346050).  Saving model ...\n",
            "Epoch: 11 \tTraining Loss: 0.203822 \tValidation Loss: 0.314265 \tValidation Accuracy: 0.894100\n",
            "Validation loss decreased (0.346050 --> 0.314265).  Saving model ...\n",
            "Epoch: 12 \tTraining Loss: 0.175839 \tValidation Loss: 0.321787 \tValidation Accuracy: 0.894300\n",
            "Epoch: 13 \tTraining Loss: 0.161008 \tValidation Loss: 0.300423 \tValidation Accuracy: 0.898800\n",
            "Validation loss decreased (0.314265 --> 0.300423).  Saving model ...\n"
          ]
        },
        {
          "output_type": "stream",
          "name": "stderr",
          "text": [
            "[I 2023-11-22 22:10:49,356] Trial 14 finished with value: 0.14316179801821707 and parameters: {'batch_size': 64, 'lr': 0.0005649188932645299, 'weight_decay': 2.8403842667842503e-06}. Best is trial 14 with value: 0.14316179801821707.\n"
          ]
        },
        {
          "output_type": "stream",
          "name": "stdout",
          "text": [
            "Epoch: 14 \tTraining Loss: 0.143162 \tValidation Loss: 0.319492 \tValidation Accuracy: 0.898700\n",
            "\n",
            "----------- Finished Training -----------\n",
            "Epoch: 0 \tTraining Loss: 1.239696 \tValidation Loss: 0.902101 \tValidation Accuracy: 0.681400\n",
            "Validation loss decreased (inf --> 0.902101).  Saving model ...\n",
            "Epoch: 1 \tTraining Loss: 0.816687 \tValidation Loss: 0.680783 \tValidation Accuracy: 0.761600\n",
            "Validation loss decreased (0.902101 --> 0.680783).  Saving model ...\n",
            "Epoch: 2 \tTraining Loss: 0.653314 \tValidation Loss: 0.576766 \tValidation Accuracy: 0.802700\n",
            "Validation loss decreased (0.680783 --> 0.576766).  Saving model ...\n",
            "Epoch: 3 \tTraining Loss: 0.554311 \tValidation Loss: 0.519427 \tValidation Accuracy: 0.822200\n",
            "Validation loss decreased (0.576766 --> 0.519427).  Saving model ...\n",
            "Epoch: 4 \tTraining Loss: 0.482482 \tValidation Loss: 0.576428 \tValidation Accuracy: 0.800600\n",
            "Epoch: 5 \tTraining Loss: 0.433464 \tValidation Loss: 0.464400 \tValidation Accuracy: 0.843000\n",
            "Validation loss decreased (0.519427 --> 0.464400).  Saving model ...\n",
            "Epoch: 6 \tTraining Loss: 0.388977 \tValidation Loss: 0.442015 \tValidation Accuracy: 0.849600\n",
            "Validation loss decreased (0.464400 --> 0.442015).  Saving model ...\n",
            "Epoch: 7 \tTraining Loss: 0.350687 \tValidation Loss: 0.434634 \tValidation Accuracy: 0.852100\n",
            "Validation loss decreased (0.442015 --> 0.434634).  Saving model ...\n",
            "Epoch: 8 \tTraining Loss: 0.316410 \tValidation Loss: 0.416671 \tValidation Accuracy: 0.858400\n",
            "Validation loss decreased (0.434634 --> 0.416671).  Saving model ...\n",
            "Epoch: 9 \tTraining Loss: 0.285589 \tValidation Loss: 0.389732 \tValidation Accuracy: 0.866800\n",
            "Validation loss decreased (0.416671 --> 0.389732).  Saving model ...\n",
            "Epoch: 10 \tTraining Loss: 0.266453 \tValidation Loss: 0.395383 \tValidation Accuracy: 0.865500\n",
            "Epoch: 11 \tTraining Loss: 0.245293 \tValidation Loss: 0.380614 \tValidation Accuracy: 0.871400\n",
            "Validation loss decreased (0.389732 --> 0.380614).  Saving model ...\n",
            "Epoch: 12 \tTraining Loss: 0.223512 \tValidation Loss: 0.374050 \tValidation Accuracy: 0.870200\n",
            "Validation loss decreased (0.380614 --> 0.374050).  Saving model ...\n",
            "Epoch: 13 \tTraining Loss: 0.202246 \tValidation Loss: 0.349147 \tValidation Accuracy: 0.883100\n",
            "Validation loss decreased (0.374050 --> 0.349147).  Saving model ...\n"
          ]
        },
        {
          "output_type": "stream",
          "name": "stderr",
          "text": [
            "[I 2023-11-22 22:18:23,163] Trial 15 finished with value: 0.18546089613437652 and parameters: {'batch_size': 64, 'lr': 0.00013227620840102776, 'weight_decay': 1.61612100127786e-05}. Best is trial 14 with value: 0.14316179801821707.\n"
          ]
        },
        {
          "output_type": "stream",
          "name": "stdout",
          "text": [
            "Epoch: 14 \tTraining Loss: 0.185461 \tValidation Loss: 0.356737 \tValidation Accuracy: 0.880800\n",
            "\n",
            "----------- Finished Training -----------\n",
            "Epoch: 0 \tTraining Loss: 1.178665 \tValidation Loss: 1.004276 \tValidation Accuracy: 0.657900\n",
            "Validation loss decreased (inf --> 1.004276).  Saving model ...\n",
            "Epoch: 1 \tTraining Loss: 0.734888 \tValidation Loss: 0.663654 \tValidation Accuracy: 0.770700\n",
            "Validation loss decreased (1.004276 --> 0.663654).  Saving model ...\n",
            "Epoch: 2 \tTraining Loss: 0.579115 \tValidation Loss: 0.572322 \tValidation Accuracy: 0.799900\n",
            "Validation loss decreased (0.663654 --> 0.572322).  Saving model ...\n",
            "Epoch: 3 \tTraining Loss: 0.494995 \tValidation Loss: 0.469858 \tValidation Accuracy: 0.838400\n",
            "Validation loss decreased (0.572322 --> 0.469858).  Saving model ...\n",
            "Epoch: 4 \tTraining Loss: 0.424656 \tValidation Loss: 0.452133 \tValidation Accuracy: 0.843900\n",
            "Validation loss decreased (0.469858 --> 0.452133).  Saving model ...\n",
            "Epoch: 5 \tTraining Loss: 0.373302 \tValidation Loss: 0.421669 \tValidation Accuracy: 0.858000\n",
            "Validation loss decreased (0.452133 --> 0.421669).  Saving model ...\n",
            "Epoch: 6 \tTraining Loss: 0.332068 \tValidation Loss: 0.437344 \tValidation Accuracy: 0.855900\n",
            "Epoch: 7 \tTraining Loss: 0.299131 \tValidation Loss: 0.353098 \tValidation Accuracy: 0.879600\n",
            "Validation loss decreased (0.421669 --> 0.353098).  Saving model ...\n",
            "Epoch: 8 \tTraining Loss: 0.273723 \tValidation Loss: 0.405397 \tValidation Accuracy: 0.865700\n",
            "Epoch: 9 \tTraining Loss: 0.250478 \tValidation Loss: 0.360017 \tValidation Accuracy: 0.878500\n",
            "Epoch: 10 \tTraining Loss: 0.221115 \tValidation Loss: 0.331050 \tValidation Accuracy: 0.889300\n",
            "Validation loss decreased (0.353098 --> 0.331050).  Saving model ...\n",
            "Epoch: 11 \tTraining Loss: 0.204226 \tValidation Loss: 0.308144 \tValidation Accuracy: 0.899900\n",
            "Validation loss decreased (0.331050 --> 0.308144).  Saving model ...\n",
            "Epoch: 12 \tTraining Loss: 0.181667 \tValidation Loss: 0.340018 \tValidation Accuracy: 0.889100\n",
            "Epoch: 13 \tTraining Loss: 0.171809 \tValidation Loss: 0.329191 \tValidation Accuracy: 0.893000\n"
          ]
        },
        {
          "output_type": "stream",
          "name": "stderr",
          "text": [
            "[I 2023-11-22 22:25:55,784] Trial 16 finished with value: 0.1541076188325882 and parameters: {'batch_size': 64, 'lr': 0.0005097552356371062, 'weight_decay': 3.121519846288315e-05}. Best is trial 14 with value: 0.14316179801821707.\n"
          ]
        },
        {
          "output_type": "stream",
          "name": "stdout",
          "text": [
            "Epoch: 14 \tTraining Loss: 0.154108 \tValidation Loss: 0.366496 \tValidation Accuracy: 0.884300\n",
            "\n",
            "----------- Finished Training -----------\n",
            "Epoch: 0 \tTraining Loss: 1.198283 \tValidation Loss: 0.898525 \tValidation Accuracy: 0.677400\n",
            "Validation loss decreased (inf --> 0.898525).  Saving model ...\n",
            "Epoch: 1 \tTraining Loss: 0.754832 \tValidation Loss: 0.718038 \tValidation Accuracy: 0.751400\n",
            "Validation loss decreased (0.898525 --> 0.718038).  Saving model ...\n",
            "Epoch: 2 \tTraining Loss: 0.605320 \tValidation Loss: 0.597212 \tValidation Accuracy: 0.793100\n",
            "Validation loss decreased (0.718038 --> 0.597212).  Saving model ...\n",
            "Epoch: 3 \tTraining Loss: 0.513637 \tValidation Loss: 0.579313 \tValidation Accuracy: 0.801500\n",
            "Validation loss decreased (0.597212 --> 0.579313).  Saving model ...\n",
            "Epoch: 4 \tTraining Loss: 0.448383 \tValidation Loss: 0.489962 \tValidation Accuracy: 0.836300\n",
            "Validation loss decreased (0.579313 --> 0.489962).  Saving model ...\n",
            "Epoch: 5 \tTraining Loss: 0.391807 \tValidation Loss: 0.455548 \tValidation Accuracy: 0.844500\n",
            "Validation loss decreased (0.489962 --> 0.455548).  Saving model ...\n",
            "Epoch: 6 \tTraining Loss: 0.351562 \tValidation Loss: 0.413810 \tValidation Accuracy: 0.859500\n",
            "Validation loss decreased (0.455548 --> 0.413810).  Saving model ...\n",
            "Epoch: 7 \tTraining Loss: 0.320330 \tValidation Loss: 0.428953 \tValidation Accuracy: 0.858200\n",
            "Epoch: 8 \tTraining Loss: 0.284277 \tValidation Loss: 0.427813 \tValidation Accuracy: 0.858200\n",
            "Epoch: 9 \tTraining Loss: 0.263727 \tValidation Loss: 0.351884 \tValidation Accuracy: 0.878500\n",
            "Validation loss decreased (0.413810 --> 0.351884).  Saving model ...\n",
            "Epoch: 10 \tTraining Loss: 0.238761 \tValidation Loss: 0.372054 \tValidation Accuracy: 0.874100\n",
            "Epoch: 11 \tTraining Loss: 0.218545 \tValidation Loss: 0.357469 \tValidation Accuracy: 0.877900\n",
            "Epoch: 12 \tTraining Loss: 0.195076 \tValidation Loss: 0.313651 \tValidation Accuracy: 0.894700\n",
            "Validation loss decreased (0.351884 --> 0.313651).  Saving model ...\n",
            "Epoch: 13 \tTraining Loss: 0.181492 \tValidation Loss: 0.373821 \tValidation Accuracy: 0.878500\n"
          ]
        },
        {
          "output_type": "stream",
          "name": "stderr",
          "text": [
            "[I 2023-11-22 22:33:32,301] Trial 17 finished with value: 0.16913461517095565 and parameters: {'batch_size': 64, 'lr': 0.0002146070168770092, 'weight_decay': 4.3139794263152415e-05}. Best is trial 14 with value: 0.14316179801821707.\n"
          ]
        },
        {
          "output_type": "stream",
          "name": "stdout",
          "text": [
            "Epoch: 14 \tTraining Loss: 0.169135 \tValidation Loss: 0.322931 \tValidation Accuracy: 0.893200\n",
            "\n",
            "----------- Finished Training -----------\n",
            "Epoch: 0 \tTraining Loss: 1.158270 \tValidation Loss: 0.752077 \tValidation Accuracy: 0.740700\n",
            "Validation loss decreased (inf --> 0.752077).  Saving model ...\n",
            "Epoch: 1 \tTraining Loss: 0.718984 \tValidation Loss: 0.704495 \tValidation Accuracy: 0.755200\n",
            "Validation loss decreased (0.752077 --> 0.704495).  Saving model ...\n",
            "Epoch: 2 \tTraining Loss: 0.582934 \tValidation Loss: 0.535756 \tValidation Accuracy: 0.815900\n",
            "Validation loss decreased (0.704495 --> 0.535756).  Saving model ...\n",
            "Epoch: 3 \tTraining Loss: 0.488252 \tValidation Loss: 0.501329 \tValidation Accuracy: 0.828700\n",
            "Validation loss decreased (0.535756 --> 0.501329).  Saving model ...\n",
            "Epoch: 4 \tTraining Loss: 0.421102 \tValidation Loss: 0.463681 \tValidation Accuracy: 0.843300\n",
            "Validation loss decreased (0.501329 --> 0.463681).  Saving model ...\n",
            "Epoch: 5 \tTraining Loss: 0.374723 \tValidation Loss: 0.443123 \tValidation Accuracy: 0.845900\n",
            "Validation loss decreased (0.463681 --> 0.443123).  Saving model ...\n",
            "Epoch: 6 \tTraining Loss: 0.337293 \tValidation Loss: 0.376017 \tValidation Accuracy: 0.872300\n",
            "Validation loss decreased (0.443123 --> 0.376017).  Saving model ...\n",
            "Epoch: 7 \tTraining Loss: 0.296696 \tValidation Loss: 0.421851 \tValidation Accuracy: 0.859500\n",
            "Epoch: 8 \tTraining Loss: 0.271221 \tValidation Loss: 0.464021 \tValidation Accuracy: 0.851400\n",
            "Epoch: 9 \tTraining Loss: 0.238176 \tValidation Loss: 0.336188 \tValidation Accuracy: 0.889600\n",
            "Validation loss decreased (0.376017 --> 0.336188).  Saving model ...\n",
            "Epoch: 10 \tTraining Loss: 0.216438 \tValidation Loss: 0.338407 \tValidation Accuracy: 0.890900\n",
            "Epoch: 11 \tTraining Loss: 0.201115 \tValidation Loss: 0.424095 \tValidation Accuracy: 0.865900\n",
            "Epoch: 12 \tTraining Loss: 0.174752 \tValidation Loss: 0.327316 \tValidation Accuracy: 0.892600\n",
            "Validation loss decreased (0.336188 --> 0.327316).  Saving model ...\n",
            "Epoch: 13 \tTraining Loss: 0.162947 \tValidation Loss: 0.303061 \tValidation Accuracy: 0.898900\n",
            "Validation loss decreased (0.327316 --> 0.303061).  Saving model ...\n"
          ]
        },
        {
          "output_type": "stream",
          "name": "stderr",
          "text": [
            "[I 2023-11-22 22:41:06,025] Trial 18 finished with value: 0.14768403348326684 and parameters: {'batch_size': 64, 'lr': 0.0004886166953866086, 'weight_decay': 1.0996838610984747e-05}. Best is trial 14 with value: 0.14316179801821707.\n"
          ]
        },
        {
          "output_type": "stream",
          "name": "stdout",
          "text": [
            "Epoch: 14 \tTraining Loss: 0.147684 \tValidation Loss: 0.298017 \tValidation Accuracy: 0.904500\n",
            "Validation loss decreased (0.303061 --> 0.298017).  Saving model ...\n",
            "\n",
            "----------- Finished Training -----------\n",
            "Epoch: 0 \tTraining Loss: 1.244732 \tValidation Loss: 0.934946 \tValidation Accuracy: 0.665400\n",
            "Validation loss decreased (inf --> 0.934946).  Saving model ...\n",
            "Epoch: 1 \tTraining Loss: 0.856910 \tValidation Loss: 0.848361 \tValidation Accuracy: 0.705400\n",
            "Validation loss decreased (0.934946 --> 0.848361).  Saving model ...\n",
            "Epoch: 2 \tTraining Loss: 0.692463 \tValidation Loss: 0.603181 \tValidation Accuracy: 0.789200\n",
            "Validation loss decreased (0.848361 --> 0.603181).  Saving model ...\n",
            "Epoch: 3 \tTraining Loss: 0.586439 \tValidation Loss: 0.572930 \tValidation Accuracy: 0.802300\n",
            "Validation loss decreased (0.603181 --> 0.572930).  Saving model ...\n",
            "Epoch: 4 \tTraining Loss: 0.516561 \tValidation Loss: 0.519914 \tValidation Accuracy: 0.820800\n",
            "Validation loss decreased (0.572930 --> 0.519914).  Saving model ...\n",
            "Epoch: 5 \tTraining Loss: 0.456347 \tValidation Loss: 0.497114 \tValidation Accuracy: 0.826400\n",
            "Validation loss decreased (0.519914 --> 0.497114).  Saving model ...\n",
            "Epoch: 6 \tTraining Loss: 0.419102 \tValidation Loss: 0.480176 \tValidation Accuracy: 0.832200\n",
            "Validation loss decreased (0.497114 --> 0.480176).  Saving model ...\n",
            "Epoch: 7 \tTraining Loss: 0.376464 \tValidation Loss: 0.456383 \tValidation Accuracy: 0.844100\n",
            "Validation loss decreased (0.480176 --> 0.456383).  Saving model ...\n",
            "Epoch: 8 \tTraining Loss: 0.339925 \tValidation Loss: 0.401848 \tValidation Accuracy: 0.859400\n",
            "Validation loss decreased (0.456383 --> 0.401848).  Saving model ...\n",
            "Epoch: 9 \tTraining Loss: 0.315363 \tValidation Loss: 0.462150 \tValidation Accuracy: 0.845800\n",
            "Epoch: 10 \tTraining Loss: 0.290169 \tValidation Loss: 0.414037 \tValidation Accuracy: 0.859500\n",
            "Epoch: 11 \tTraining Loss: 0.268784 \tValidation Loss: 0.409618 \tValidation Accuracy: 0.858400\n",
            "Epoch: 12 \tTraining Loss: 0.244921 \tValidation Loss: 0.374159 \tValidation Accuracy: 0.873500\n",
            "Validation loss decreased (0.401848 --> 0.374159).  Saving model ...\n",
            "Epoch: 13 \tTraining Loss: 0.222251 \tValidation Loss: 0.393345 \tValidation Accuracy: 0.868300\n"
          ]
        },
        {
          "output_type": "stream",
          "name": "stderr",
          "text": [
            "[I 2023-11-22 22:48:36,435] Trial 19 finished with value: 0.20879869564771653 and parameters: {'batch_size': 64, 'lr': 9.695088693278583e-05, 'weight_decay': 2.4085901981053108e-05}. Best is trial 14 with value: 0.14316179801821707.\n"
          ]
        },
        {
          "output_type": "stream",
          "name": "stdout",
          "text": [
            "Epoch: 14 \tTraining Loss: 0.208799 \tValidation Loss: 0.393525 \tValidation Accuracy: 0.867300\n",
            "\n",
            "----------- Finished Training -----------\n",
            "Best trial:\n",
            "  Value: 0.14316179801821707\n",
            "  Params: \n",
            "      batch_size: 64\n",
            "      lr: 0.0005649188932645299\n",
            "      weight_decay: 2.8403842667842503e-06\n"
          ]
        }
      ]
    },
    {
      "cell_type": "markdown",
      "metadata": {
        "id": "O6ZSgv6sxq54"
      },
      "source": [
        "Train the model again with the best configuration found during optimization in 40 epochs"
      ]
    },
    {
      "cell_type": "code",
      "execution_count": 11,
      "metadata": {
        "id": "hoO0S70gLAzJ",
        "colab": {
          "base_uri": "https://localhost:8080/"
        },
        "outputId": "a07b5ce3-1741-46e9-ffc2-f036e752b885"
      },
      "outputs": [
        {
          "output_type": "stream",
          "name": "stdout",
          "text": [
            "Epoch: 0 \tTraining Loss: 1.162202 \tValidation Loss: 0.823535 \tValidation Accuracy: 0.716800\n",
            "Validation loss decreased (inf --> 0.823535).  Saving model ...\n",
            "Epoch: 1 \tTraining Loss: 0.724199 \tValidation Loss: 0.679056 \tValidation Accuracy: 0.767200\n",
            "Validation loss decreased (0.823535 --> 0.679056).  Saving model ...\n",
            "Epoch: 2 \tTraining Loss: 0.581179 \tValidation Loss: 0.537925 \tValidation Accuracy: 0.815200\n",
            "Validation loss decreased (0.679056 --> 0.537925).  Saving model ...\n",
            "Epoch: 3 \tTraining Loss: 0.485160 \tValidation Loss: 0.526997 \tValidation Accuracy: 0.819500\n",
            "Validation loss decreased (0.537925 --> 0.526997).  Saving model ...\n",
            "Epoch: 4 \tTraining Loss: 0.422840 \tValidation Loss: 0.477856 \tValidation Accuracy: 0.831800\n",
            "Validation loss decreased (0.526997 --> 0.477856).  Saving model ...\n",
            "Epoch: 5 \tTraining Loss: 0.372345 \tValidation Loss: 0.410290 \tValidation Accuracy: 0.859700\n",
            "Validation loss decreased (0.477856 --> 0.410290).  Saving model ...\n",
            "Epoch: 6 \tTraining Loss: 0.328125 \tValidation Loss: 0.443342 \tValidation Accuracy: 0.851300\n",
            "Epoch: 7 \tTraining Loss: 0.293754 \tValidation Loss: 0.345607 \tValidation Accuracy: 0.885100\n",
            "Validation loss decreased (0.410290 --> 0.345607).  Saving model ...\n",
            "Epoch: 8 \tTraining Loss: 0.266627 \tValidation Loss: 0.320889 \tValidation Accuracy: 0.890000\n",
            "Validation loss decreased (0.345607 --> 0.320889).  Saving model ...\n",
            "Epoch: 9 \tTraining Loss: 0.237085 \tValidation Loss: 0.337840 \tValidation Accuracy: 0.888100\n",
            "Epoch: 10 \tTraining Loss: 0.215612 \tValidation Loss: 0.330142 \tValidation Accuracy: 0.892600\n",
            "Epoch: 11 \tTraining Loss: 0.194992 \tValidation Loss: 0.327291 \tValidation Accuracy: 0.894100\n",
            "Epoch: 12 \tTraining Loss: 0.178889 \tValidation Loss: 0.334711 \tValidation Accuracy: 0.893600\n",
            "Epoch: 13 \tTraining Loss: 0.156623 \tValidation Loss: 0.301039 \tValidation Accuracy: 0.903100\n",
            "Validation loss decreased (0.320889 --> 0.301039).  Saving model ...\n",
            "Epoch: 14 \tTraining Loss: 0.144757 \tValidation Loss: 0.305599 \tValidation Accuracy: 0.903200\n",
            "Epoch: 15 \tTraining Loss: 0.130177 \tValidation Loss: 0.322349 \tValidation Accuracy: 0.897600\n",
            "Epoch: 16 \tTraining Loss: 0.124372 \tValidation Loss: 0.307914 \tValidation Accuracy: 0.904400\n",
            "Epoch: 17 \tTraining Loss: 0.111332 \tValidation Loss: 0.287328 \tValidation Accuracy: 0.907500\n",
            "Validation loss decreased (0.301039 --> 0.287328).  Saving model ...\n",
            "Epoch: 18 \tTraining Loss: 0.097953 \tValidation Loss: 0.320412 \tValidation Accuracy: 0.899600\n",
            "Epoch: 19 \tTraining Loss: 0.089504 \tValidation Loss: 0.335502 \tValidation Accuracy: 0.898700\n",
            "Epoch: 20 \tTraining Loss: 0.084472 \tValidation Loss: 0.294316 \tValidation Accuracy: 0.908900\n",
            "Epoch: 21 \tTraining Loss: 0.072980 \tValidation Loss: 0.280923 \tValidation Accuracy: 0.914000\n",
            "Validation loss decreased (0.287328 --> 0.280923).  Saving model ...\n",
            "Epoch: 22 \tTraining Loss: 0.068073 \tValidation Loss: 0.299573 \tValidation Accuracy: 0.911100\n",
            "Epoch: 23 \tTraining Loss: 0.063346 \tValidation Loss: 0.315488 \tValidation Accuracy: 0.911200\n",
            "Epoch: 24 \tTraining Loss: 0.057798 \tValidation Loss: 0.279600 \tValidation Accuracy: 0.918600\n",
            "Validation loss decreased (0.280923 --> 0.279600).  Saving model ...\n",
            "Epoch: 25 \tTraining Loss: 0.054113 \tValidation Loss: 0.293855 \tValidation Accuracy: 0.913100\n",
            "Epoch: 26 \tTraining Loss: 0.049053 \tValidation Loss: 0.290175 \tValidation Accuracy: 0.917000\n",
            "Epoch: 27 \tTraining Loss: 0.048090 \tValidation Loss: 0.290067 \tValidation Accuracy: 0.917500\n",
            "Epoch: 28 \tTraining Loss: 0.043201 \tValidation Loss: 0.290765 \tValidation Accuracy: 0.919600\n",
            "Epoch: 29 \tTraining Loss: 0.039049 \tValidation Loss: 0.290330 \tValidation Accuracy: 0.921500\n",
            "Epoch: 30 \tTraining Loss: 0.035379 \tValidation Loss: 0.284393 \tValidation Accuracy: 0.920300\n",
            "Epoch: 31 \tTraining Loss: 0.032725 \tValidation Loss: 0.292961 \tValidation Accuracy: 0.918900\n",
            "Epoch: 32 \tTraining Loss: 0.031286 \tValidation Loss: 0.292466 \tValidation Accuracy: 0.917400\n",
            "Epoch: 33 \tTraining Loss: 0.026699 \tValidation Loss: 0.290217 \tValidation Accuracy: 0.923700\n",
            "Epoch: 34 \tTraining Loss: 0.029348 \tValidation Loss: 0.298862 \tValidation Accuracy: 0.918500\n",
            "Epoch: 35 \tTraining Loss: 0.025632 \tValidation Loss: 0.305041 \tValidation Accuracy: 0.920700\n",
            "Epoch: 36 \tTraining Loss: 0.023372 \tValidation Loss: 0.301070 \tValidation Accuracy: 0.922000\n",
            "Epoch: 37 \tTraining Loss: 0.023130 \tValidation Loss: 0.339823 \tValidation Accuracy: 0.917200\n",
            "Epoch: 38 \tTraining Loss: 0.027528 \tValidation Loss: 0.305098 \tValidation Accuracy: 0.920600\n",
            "Epoch: 39 \tTraining Loss: 0.023343 \tValidation Loss: 0.300614 \tValidation Accuracy: 0.924200\n",
            "\n",
            "----------- Finished Training -----------\n"
          ]
        }
      ],
      "source": [
        "best_config = study.best_trial.params\n",
        "best_config[\"amsgrad\"] = True\n",
        "\n",
        "EPOCHS = 40\n",
        "train_loss_list, accuracy_list = train_cifar(best_config, trainset, validationset, testset, EPOCHS)"
      ]
    },
    {
      "cell_type": "markdown",
      "metadata": {
        "id": "j7gM-BC4vrmV"
      },
      "source": [
        "# VI. Evaluation"
      ]
    },
    {
      "cell_type": "markdown",
      "metadata": {
        "id": "jaNP4Ylj1Ow2"
      },
      "source": [
        "Display the training progress"
      ]
    },
    {
      "cell_type": "code",
      "execution_count": 12,
      "metadata": {
        "id": "yxTPB3syLJvf",
        "colab": {
          "base_uri": "https://localhost:8080/",
          "height": 776
        },
        "outputId": "c764eb09-df83-4d4b-f354-8f87849a65c1"
      },
      "outputs": [
        {
          "output_type": "display_data",
          "data": {
            "text/plain": [
              "<Figure size 1400x800 with 2 Axes>"
            ],
            "image/png": "[encoded data removed]"
          },
          "metadata": {}
        }
      ],
      "source": [
        "fig, (ax1, ax2) = plt.subplots(2, figsize=(14, 8), sharex=True)\n",
        "fig.suptitle(\"Training loss and Validation accuracy\", size=15)\n",
        "\n",
        "ax1.plot([*range(EPOCHS)], train_loss_list, \"tab:red\", label=\"train loss\")\n",
        "ax1.set(xlabel=\"Epoch\", ylabel=\"Loss\")\n",
        "\n",
        "plt.plot([*range(EPOCHS)], accuracy_list, \"tab:cyan\", label=\"accuracy\")\n",
        "ax2.set(xlabel=\"Epoch\", ylabel=\"Accuracy\")\n",
        "\n",
        "fig.show()"
      ]
    },
    {
      "cell_type": "markdown",
      "metadata": {
        "id": "xWI9E3Kr0AX8"
      },
      "source": [
        "- `test_accuracy(net, testloader)`: Calculates the overall accuracy of the model\n",
        "- `test_accuracy_per_class(net, testloader)`: Calculates class-wise accuracy\n",
        "\n",
        "`net.eval()` is called before testing starts to put the network into evaluation mode. Also, `torch.no_grad()` is used as a context manager to disable gradient calculations during inference which can save memory.\n"
      ]
    },
    {
      "cell_type": "code",
      "execution_count": 13,
      "metadata": {
        "id": "uS4bULm1_rbI"
      },
      "outputs": [],
      "source": [
        "def test_accuracy(net, testloader):\n",
        "    correct = 0\n",
        "\n",
        "    # Disable gradient calculations during testing to save memory and improve performance\n",
        "    with torch.no_grad():\n",
        "        net.eval()\n",
        "        for images, labels in testloader:\n",
        "            images, labels = images.to(device), labels.to(device)\n",
        "\n",
        "            # Get network predictions for test images\n",
        "            outputs = net(images)\n",
        "\n",
        "            # Find class label with highest probability for each image\n",
        "            predicted = torch.max(outputs.data, 1)[1]\n",
        "\n",
        "            # Compare predictions to true label\n",
        "            correct += (predicted == labels).sum().item()\n",
        "\n",
        "    return correct / len(testloader.dataset)\n",
        "\n",
        "def test_accuracy_per_class(net, testloader):\n",
        "    correct_pred = {classname: 0 for classname in trainset.classes}\n",
        "    total_pred = {classname: 0 for classname in trainset.classes}\n",
        "\n",
        "    with torch.no_grad():\n",
        "        net.eval()\n",
        "        for images, labels in testloader:\n",
        "            images, labels = images.to(device), labels.to(device)\n",
        "\n",
        "            # Get network predictions for test images\n",
        "            outputs = net(images)\n",
        "\n",
        "            # Find class label with highest probability for each image\n",
        "            predicted = torch.max(outputs.data, 1)[1]\n",
        "\n",
        "            # Compare predictions to true label\n",
        "            for label, prediction in zip(labels, predicted):\n",
        "                if label == prediction:\n",
        "                    correct_pred[trainset.classes[label]] += 1\n",
        "                total_pred[trainset.classes[label]] += 1\n",
        "\n",
        "    # Calculate accuracy for each class\n",
        "    accuracy_per_class = {classname: 0 for classname in trainset.classes}\n",
        "    for classname, correct_count in correct_pred.items():\n",
        "        accuracy = (100 * float(correct_count)) / total_pred[classname]\n",
        "        accuracy_per_class[classname] = accuracy\n",
        "\n",
        "    return accuracy_per_class"
      ]
    },
    {
      "cell_type": "markdown",
      "metadata": {
        "id": "hbMz9NAKz-Yi"
      },
      "source": [
        "Test the accuracy of the best model (cnn.pt)"
      ]
    },
    {
      "cell_type": "code",
      "execution_count": 14,
      "metadata": {
        "id": "7iaxzg8HYXod",
        "colab": {
          "base_uri": "https://localhost:8080/"
        },
        "outputId": "ed135db0-a569-4046-cb67-2b93f8035b1f"
      },
      "outputs": [
        {
          "output_type": "stream",
          "name": "stdout",
          "text": [
            "Overall accuracy  90.99 %\n",
            "\n",
            "airplane     92.90 %\n",
            "automobile   96.60 %\n",
            "bird         88.80 %\n",
            "cat          74.40 %\n",
            "deer         93.40 %\n",
            "dog          88.10 %\n",
            "frog         94.20 %\n",
            "horse        94.10 %\n",
            "ship         94.70 %\n",
            "truck        92.70 %\n"
          ]
        }
      ],
      "source": [
        "_, _, testloader = data_loaders(trainset, validationset, testset, best_config[\"batch_size\"])\n",
        "\n",
        "trained_net = ResNet()\n",
        "trained_net.to(device)\n",
        "\n",
        "# Load the saved best model from above\n",
        "trained_net.load_state_dict(torch.load(\"cnn.pt\"))\n",
        "\n",
        "overall_accuracy = test_accuracy(trained_net, testloader)\n",
        "\n",
        "print(\"Overall accuracy  \" f\"{(overall_accuracy * 100):.2f} %\\n\")\n",
        "\n",
        "accuracy_per_class = test_accuracy_per_class(trained_net, testloader)\n",
        "\n",
        "for classname, accuracy in accuracy_per_class.items():\n",
        "    print(f\"{classname:12s} {accuracy:.2f} %\")"
      ]
    }
  ],
  "metadata": {
    "accelerator": "GPU",
    "colab": {
      "collapsed_sections": [
        "-mjDCvICsrip"
      ],
      "gpuType": "T4",
      "provenance": [],
      "toc_visible": true
    },
    "kernelspec": {
      "display_name": "Python 3",
      "name": "python3"
    },
    "language_info": {
      "name": "python"
    }
  },
  "nbformat": 4,
  "nbformat_minor": 0
}